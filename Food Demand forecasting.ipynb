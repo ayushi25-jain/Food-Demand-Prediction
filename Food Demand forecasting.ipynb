{
 "cells": [
  {
   "cell_type": "raw",
   "metadata": {},
   "source": [
    "Demand forecasting is a key component to every growing online business. Without proper demand forecasting processes in place, it can be nearly impossible to have the right amount of stock on hand at any given time. A food delivery service has to deal with a lot of perishable raw materials which makes it all the more important for such a company to accurately forecast daily and weekly demand.\n",
    " \n",
    "Too much inventory in the warehouse means more risk of wastage, and not enough could lead to out-of-stocks — and push customers to seek solutions from your competitors. In this challenge, get a taste of demand forecasting challenge using a real dataset."
   ]
  },
  {
   "cell_type": "code",
   "execution_count": 76,
   "metadata": {},
   "outputs": [],
   "source": [
    "import pandas as pd\n",
    "import seaborn as sns\n",
    "import numpy as np\n",
    "import matplotlib.pyplot as plt\n",
    "from scipy.stats import stats\n",
    "import statsmodels.api as sm"
   ]
  },
  {
   "cell_type": "code",
   "execution_count": 77,
   "metadata": {},
   "outputs": [],
   "source": [
    "first= pd.read_csv('train.csv')\n",
    "second= pd.read_csv('meal_info.csv')\n",
    "third=pd.read_csv('fulfilment_center_info.csv')"
   ]
  },
  {
   "cell_type": "code",
   "execution_count": 78,
   "metadata": {
    "scrolled": true
   },
   "outputs": [],
   "source": [
    "first1=pd.read_csv(\"test_QoiMO9B.csv\")"
   ]
  },
  {
   "cell_type": "code",
   "execution_count": 79,
   "metadata": {},
   "outputs": [
    {
     "data": {
      "text/plain": [
       "(456548, 9)"
      ]
     },
     "execution_count": 79,
     "metadata": {},
     "output_type": "execute_result"
    }
   ],
   "source": [
    "first.shape"
   ]
  },
  {
   "cell_type": "code",
   "execution_count": 80,
   "metadata": {},
   "outputs": [
    {
     "data": {
      "text/plain": [
       "(32573, 8)"
      ]
     },
     "execution_count": 80,
     "metadata": {},
     "output_type": "execute_result"
    }
   ],
   "source": [
    "first1.shape"
   ]
  },
  {
   "cell_type": "code",
   "execution_count": 81,
   "metadata": {},
   "outputs": [
    {
     "data": {
      "text/plain": [
       "id                       456548\n",
       "week                        145\n",
       "center_id                    77\n",
       "meal_id                      51\n",
       "checkout_price             1992\n",
       "base_price                 1907\n",
       "emailer_for_promotion         2\n",
       "homepage_featured             2\n",
       "num_orders                 1250\n",
       "dtype: int64"
      ]
     },
     "execution_count": 81,
     "metadata": {},
     "output_type": "execute_result"
    }
   ],
   "source": [
    "first.head()\n",
    "first.shape\n",
    "first.nunique()"
   ]
  },
  {
   "cell_type": "code",
   "execution_count": null,
   "metadata": {},
   "outputs": [],
   "source": []
  },
  {
   "cell_type": "code",
   "execution_count": 82,
   "metadata": {},
   "outputs": [
    {
     "data": {
      "text/plain": [
       "(51, 3)"
      ]
     },
     "execution_count": 82,
     "metadata": {},
     "output_type": "execute_result"
    }
   ],
   "source": [
    "second.head()\n",
    "second.shape"
   ]
  },
  {
   "cell_type": "code",
   "execution_count": 83,
   "metadata": {},
   "outputs": [
    {
     "data": {
      "text/plain": [
       "(77, 5)"
      ]
     },
     "execution_count": 83,
     "metadata": {},
     "output_type": "execute_result"
    }
   ],
   "source": [
    "third.head()\n",
    "third.shape"
   ]
  },
  {
   "cell_type": "code",
   "execution_count": 84,
   "metadata": {},
   "outputs": [],
   "source": [
    "first_second=pd.merge(first,second,on=[\"meal_id\"],how=\"left\")\n",
    "first1_second=pd.merge(first1,second,on=[\"meal_id\"],how=\"left\")"
   ]
  },
  {
   "cell_type": "code",
   "execution_count": 85,
   "metadata": {},
   "outputs": [
    {
     "name": "stdout",
     "output_type": "stream",
     "text": [
      "<class 'pandas.core.frame.DataFrame'>\n",
      "Int64Index: 456548 entries, 0 to 456547\n",
      "Data columns (total 11 columns):\n",
      "id                       456548 non-null int64\n",
      "week                     456548 non-null int64\n",
      "center_id                456548 non-null int64\n",
      "meal_id                  456548 non-null int64\n",
      "checkout_price           456548 non-null float64\n",
      "base_price               456548 non-null float64\n",
      "emailer_for_promotion    456548 non-null int64\n",
      "homepage_featured        456548 non-null int64\n",
      "num_orders               456548 non-null int64\n",
      "category                 456548 non-null object\n",
      "cuisine                  456548 non-null object\n",
      "dtypes: float64(2), int64(7), object(2)\n",
      "memory usage: 41.8+ MB\n"
     ]
    }
   ],
   "source": [
    "first_second.info()"
   ]
  },
  {
   "cell_type": "code",
   "execution_count": 86,
   "metadata": {},
   "outputs": [
    {
     "name": "stdout",
     "output_type": "stream",
     "text": [
      "<class 'pandas.core.frame.DataFrame'>\n",
      "Int64Index: 32573 entries, 0 to 32572\n",
      "Data columns (total 14 columns):\n",
      "id                       32573 non-null int64\n",
      "week                     32573 non-null int64\n",
      "center_id                32573 non-null int64\n",
      "meal_id                  32573 non-null int64\n",
      "checkout_price           32573 non-null float64\n",
      "base_price               32573 non-null float64\n",
      "emailer_for_promotion    32573 non-null int64\n",
      "homepage_featured        32573 non-null int64\n",
      "category                 32573 non-null object\n",
      "cuisine                  32573 non-null object\n",
      "city_code                32573 non-null int64\n",
      "region_code              32573 non-null int64\n",
      "center_type              32573 non-null object\n",
      "op_area                  32573 non-null float64\n",
      "dtypes: float64(3), int64(8), object(3)\n",
      "memory usage: 3.7+ MB\n"
     ]
    }
   ],
   "source": [
    "train=pd.merge(first_second,third,on=[\"center_id\"],how=\"left\")\n",
    "\n",
    "test=pd.merge(first1_second,third,on=['center_id'],how='left')\n",
    "test.info()\n"
   ]
  },
  {
   "cell_type": "code",
   "execution_count": 87,
   "metadata": {},
   "outputs": [
    {
     "name": "stdout",
     "output_type": "stream",
     "text": [
      "Shape of train data: (456548, 15)\n",
      "Shape of test data: (32573, 14)\n"
     ]
    }
   ],
   "source": [
    "print(\"Shape of train data:\",train.shape)\n",
    "print(\"Shape of test data:\",test.shape)"
   ]
  },
  {
   "cell_type": "code",
   "execution_count": 88,
   "metadata": {},
   "outputs": [
    {
     "name": "stderr",
     "output_type": "stream",
     "text": [
      "C:\\Users\\sja\\AppData\\Local\\Continuum\\anaconda3\\lib\\site-packages\\ipykernel_launcher.py:1: FutureWarning: Sorting because non-concatenation axis is not aligned. A future version\n",
      "of pandas will change to not sort by default.\n",
      "\n",
      "To accept the future behavior, pass 'sort=False'.\n",
      "\n",
      "To retain the current behavior and silence the warning, pass 'sort=True'.\n",
      "\n",
      "  \"\"\"Entry point for launching an IPython kernel.\n"
     ]
    }
   ],
   "source": [
    "data=pd.concat([test,train])"
   ]
  },
  {
   "cell_type": "code",
   "execution_count": 89,
   "metadata": {},
   "outputs": [
    {
     "data": {
      "text/plain": [
       "(489121, 15)"
      ]
     },
     "execution_count": 89,
     "metadata": {},
     "output_type": "execute_result"
    }
   ],
   "source": [
    "data.shape"
   ]
  },
  {
   "cell_type": "code",
   "execution_count": 90,
   "metadata": {},
   "outputs": [
    {
     "name": "stdout",
     "output_type": "stream",
     "text": [
      "Column Name: category\n",
      "['Beverages' 'Rice Bowl' 'Starters' 'Sandwich' 'Extras' 'Pizza' 'Seafood'\n",
      " 'Other Snacks' 'Desert' 'Salad' 'Fish' 'Pasta' 'Biryani' 'Soup']\n",
      "Column Name: center_type\n",
      "['TYPE_C' 'TYPE_B' 'TYPE_A']\n",
      "Column Name: cuisine\n",
      "['Thai' 'Indian' 'Italian' 'Continental']\n"
     ]
    }
   ],
   "source": [
    "## finding unique values of each categorical column\n",
    "for i in data.select_dtypes(include=['object']).columns:\n",
    "    print(\"Column Name: {}\\n{}\".format( i,data[i].unique()))"
   ]
  },
  {
   "cell_type": "code",
   "execution_count": 91,
   "metadata": {},
   "outputs": [
    {
     "data": {
      "text/plain": [
       "base_price                   0\n",
       "category                     0\n",
       "center_id                    0\n",
       "center_type                  0\n",
       "checkout_price               0\n",
       "city_code                    0\n",
       "cuisine                      0\n",
       "emailer_for_promotion        0\n",
       "homepage_featured            0\n",
       "id                           0\n",
       "meal_id                      0\n",
       "num_orders               32573\n",
       "op_area                      0\n",
       "region_code                  0\n",
       "week                         0\n",
       "dtype: int64"
      ]
     },
     "execution_count": 91,
     "metadata": {},
     "output_type": "execute_result"
    }
   ],
   "source": [
    "data.isnull().sum()\n"
   ]
  },
  {
   "cell_type": "code",
   "execution_count": 92,
   "metadata": {},
   "outputs": [
    {
     "data": {
      "text/html": [
       "<div>\n",
       "<style scoped>\n",
       "    .dataframe tbody tr th:only-of-type {\n",
       "        vertical-align: middle;\n",
       "    }\n",
       "\n",
       "    .dataframe tbody tr th {\n",
       "        vertical-align: top;\n",
       "    }\n",
       "\n",
       "    .dataframe thead th {\n",
       "        text-align: right;\n",
       "    }\n",
       "</style>\n",
       "<table border=\"1\" class=\"dataframe\">\n",
       "  <thead>\n",
       "    <tr style=\"text-align: right;\">\n",
       "      <th></th>\n",
       "      <th>base_price</th>\n",
       "      <th>category</th>\n",
       "      <th>center_id</th>\n",
       "      <th>center_type</th>\n",
       "      <th>checkout_price</th>\n",
       "      <th>city_code</th>\n",
       "      <th>cuisine</th>\n",
       "      <th>emailer_for_promotion</th>\n",
       "      <th>homepage_featured</th>\n",
       "      <th>id</th>\n",
       "      <th>meal_id</th>\n",
       "      <th>num_orders</th>\n",
       "      <th>op_area</th>\n",
       "      <th>region_code</th>\n",
       "      <th>week</th>\n",
       "    </tr>\n",
       "  </thead>\n",
       "  <tbody>\n",
       "    <tr>\n",
       "      <th>0</th>\n",
       "      <td>159.11</td>\n",
       "      <td>Beverages</td>\n",
       "      <td>55</td>\n",
       "      <td>TYPE_C</td>\n",
       "      <td>158.11</td>\n",
       "      <td>647</td>\n",
       "      <td>Thai</td>\n",
       "      <td>0</td>\n",
       "      <td>0</td>\n",
       "      <td>1028232</td>\n",
       "      <td>1885</td>\n",
       "      <td>NaN</td>\n",
       "      <td>2.0</td>\n",
       "      <td>56</td>\n",
       "      <td>146</td>\n",
       "    </tr>\n",
       "    <tr>\n",
       "      <th>1</th>\n",
       "      <td>159.11</td>\n",
       "      <td>Beverages</td>\n",
       "      <td>55</td>\n",
       "      <td>TYPE_C</td>\n",
       "      <td>160.11</td>\n",
       "      <td>647</td>\n",
       "      <td>Thai</td>\n",
       "      <td>0</td>\n",
       "      <td>0</td>\n",
       "      <td>1127204</td>\n",
       "      <td>1993</td>\n",
       "      <td>NaN</td>\n",
       "      <td>2.0</td>\n",
       "      <td>56</td>\n",
       "      <td>146</td>\n",
       "    </tr>\n",
       "    <tr>\n",
       "      <th>2</th>\n",
       "      <td>159.14</td>\n",
       "      <td>Beverages</td>\n",
       "      <td>55</td>\n",
       "      <td>TYPE_C</td>\n",
       "      <td>157.14</td>\n",
       "      <td>647</td>\n",
       "      <td>Thai</td>\n",
       "      <td>0</td>\n",
       "      <td>0</td>\n",
       "      <td>1212707</td>\n",
       "      <td>2539</td>\n",
       "      <td>NaN</td>\n",
       "      <td>2.0</td>\n",
       "      <td>56</td>\n",
       "      <td>146</td>\n",
       "    </tr>\n",
       "    <tr>\n",
       "      <th>3</th>\n",
       "      <td>162.02</td>\n",
       "      <td>Beverages</td>\n",
       "      <td>55</td>\n",
       "      <td>TYPE_C</td>\n",
       "      <td>162.02</td>\n",
       "      <td>647</td>\n",
       "      <td>Indian</td>\n",
       "      <td>0</td>\n",
       "      <td>0</td>\n",
       "      <td>1082698</td>\n",
       "      <td>2631</td>\n",
       "      <td>NaN</td>\n",
       "      <td>2.0</td>\n",
       "      <td>56</td>\n",
       "      <td>146</td>\n",
       "    </tr>\n",
       "    <tr>\n",
       "      <th>4</th>\n",
       "      <td>163.93</td>\n",
       "      <td>Beverages</td>\n",
       "      <td>55</td>\n",
       "      <td>TYPE_C</td>\n",
       "      <td>163.93</td>\n",
       "      <td>647</td>\n",
       "      <td>Indian</td>\n",
       "      <td>0</td>\n",
       "      <td>0</td>\n",
       "      <td>1400926</td>\n",
       "      <td>1248</td>\n",
       "      <td>NaN</td>\n",
       "      <td>2.0</td>\n",
       "      <td>56</td>\n",
       "      <td>146</td>\n",
       "    </tr>\n",
       "  </tbody>\n",
       "</table>\n",
       "</div>"
      ],
      "text/plain": [
       "   base_price   category  center_id center_type  checkout_price  city_code  \\\n",
       "0      159.11  Beverages         55      TYPE_C          158.11        647   \n",
       "1      159.11  Beverages         55      TYPE_C          160.11        647   \n",
       "2      159.14  Beverages         55      TYPE_C          157.14        647   \n",
       "3      162.02  Beverages         55      TYPE_C          162.02        647   \n",
       "4      163.93  Beverages         55      TYPE_C          163.93        647   \n",
       "\n",
       "  cuisine  emailer_for_promotion  homepage_featured       id  meal_id  \\\n",
       "0    Thai                      0                  0  1028232     1885   \n",
       "1    Thai                      0                  0  1127204     1993   \n",
       "2    Thai                      0                  0  1212707     2539   \n",
       "3  Indian                      0                  0  1082698     2631   \n",
       "4  Indian                      0                  0  1400926     1248   \n",
       "\n",
       "   num_orders  op_area  region_code  week  \n",
       "0         NaN      2.0           56   146  \n",
       "1         NaN      2.0           56   146  \n",
       "2         NaN      2.0           56   146  \n",
       "3         NaN      2.0           56   146  \n",
       "4         NaN      2.0           56   146  "
      ]
     },
     "execution_count": 92,
     "metadata": {},
     "output_type": "execute_result"
    }
   ],
   "source": [
    "data.head()"
   ]
  },
  {
   "cell_type": "code",
   "execution_count": 95,
   "metadata": {},
   "outputs": [
    {
     "name": "stdout",
     "output_type": "stream",
     "text": [
      "<class 'pandas.core.frame.DataFrame'>\n",
      "Int64Index: 489121 entries, 0 to 456547\n",
      "Data columns (total 15 columns):\n",
      "base_price               489121 non-null float64\n",
      "category                 489121 non-null object\n",
      "center_id                489121 non-null int64\n",
      "center_type              489121 non-null object\n",
      "checkout_price           489121 non-null float64\n",
      "city_code                489121 non-null int64\n",
      "cuisine                  489121 non-null object\n",
      "emailer_for_promotion    489121 non-null int64\n",
      "homepage_featured        489121 non-null int64\n",
      "id                       489121 non-null int64\n",
      "meal_id                  489121 non-null int64\n",
      "num_orders               456548 non-null float64\n",
      "op_area                  489121 non-null float64\n",
      "region_code              489121 non-null int64\n",
      "week                     489121 non-null int64\n",
      "dtypes: float64(4), int64(8), object(3)\n",
      "memory usage: 59.7+ MB\n"
     ]
    }
   ],
   "source": [
    "data.info()"
   ]
  },
  {
   "cell_type": "code",
   "execution_count": 96,
   "metadata": {},
   "outputs": [
    {
     "data": {
      "text/plain": [
       "51"
      ]
     },
     "execution_count": 96,
     "metadata": {},
     "output_type": "execute_result"
    }
   ],
   "source": [
    "data.city_code.nunique()"
   ]
  },
  {
   "cell_type": "code",
   "execution_count": 97,
   "metadata": {},
   "outputs": [],
   "source": [
    "#plt.bar(train.city_code,train.num_orders)"
   ]
  },
  {
   "cell_type": "code",
   "execution_count": 98,
   "metadata": {},
   "outputs": [
    {
     "data": {
      "text/html": [
       "<div>\n",
       "<style scoped>\n",
       "    .dataframe tbody tr th:only-of-type {\n",
       "        vertical-align: middle;\n",
       "    }\n",
       "\n",
       "    .dataframe tbody tr th {\n",
       "        vertical-align: top;\n",
       "    }\n",
       "\n",
       "    .dataframe thead th {\n",
       "        text-align: right;\n",
       "    }\n",
       "</style>\n",
       "<table border=\"1\" class=\"dataframe\">\n",
       "  <thead>\n",
       "    <tr style=\"text-align: right;\">\n",
       "      <th></th>\n",
       "      <th>base_price</th>\n",
       "      <th>center_id</th>\n",
       "      <th>checkout_price</th>\n",
       "      <th>city_code</th>\n",
       "      <th>emailer_for_promotion</th>\n",
       "      <th>homepage_featured</th>\n",
       "      <th>id</th>\n",
       "      <th>meal_id</th>\n",
       "      <th>num_orders</th>\n",
       "      <th>op_area</th>\n",
       "      <th>region_code</th>\n",
       "      <th>week</th>\n",
       "    </tr>\n",
       "  </thead>\n",
       "  <tbody>\n",
       "    <tr>\n",
       "      <th>count</th>\n",
       "      <td>489121.000000</td>\n",
       "      <td>489121.000000</td>\n",
       "      <td>489121.000000</td>\n",
       "      <td>489121.000000</td>\n",
       "      <td>489121.000000</td>\n",
       "      <td>489121.000000</td>\n",
       "      <td>4.891210e+05</td>\n",
       "      <td>489121.000000</td>\n",
       "      <td>456548.000000</td>\n",
       "      <td>489121.000000</td>\n",
       "      <td>489121.000000</td>\n",
       "      <td>489121.000000</td>\n",
       "    </tr>\n",
       "    <tr>\n",
       "      <th>mean</th>\n",
       "      <td>354.312259</td>\n",
       "      <td>82.092206</td>\n",
       "      <td>332.879277</td>\n",
       "      <td>601.551172</td>\n",
       "      <td>0.080172</td>\n",
       "      <td>0.107346</td>\n",
       "      <td>1.249988e+06</td>\n",
       "      <td>2024.852268</td>\n",
       "      <td>261.872760</td>\n",
       "      <td>4.083865</td>\n",
       "      <td>56.621065</td>\n",
       "      <td>79.810613</td>\n",
       "    </tr>\n",
       "    <tr>\n",
       "      <th>std</th>\n",
       "      <td>160.352168</td>\n",
       "      <td>45.973390</td>\n",
       "      <td>153.022073</td>\n",
       "      <td>66.182598</td>\n",
       "      <td>0.271560</td>\n",
       "      <td>0.309552</td>\n",
       "      <td>1.443421e+05</td>\n",
       "      <td>547.408978</td>\n",
       "      <td>395.922798</td>\n",
       "      <td>1.092163</td>\n",
       "      <td>17.641296</td>\n",
       "      <td>44.343325</td>\n",
       "    </tr>\n",
       "    <tr>\n",
       "      <th>min</th>\n",
       "      <td>55.350000</td>\n",
       "      <td>10.000000</td>\n",
       "      <td>2.970000</td>\n",
       "      <td>456.000000</td>\n",
       "      <td>0.000000</td>\n",
       "      <td>0.000000</td>\n",
       "      <td>1.000000e+06</td>\n",
       "      <td>1062.000000</td>\n",
       "      <td>13.000000</td>\n",
       "      <td>0.900000</td>\n",
       "      <td>23.000000</td>\n",
       "      <td>1.000000</td>\n",
       "    </tr>\n",
       "    <tr>\n",
       "      <th>25%</th>\n",
       "      <td>243.500000</td>\n",
       "      <td>43.000000</td>\n",
       "      <td>228.010000</td>\n",
       "      <td>553.000000</td>\n",
       "      <td>0.000000</td>\n",
       "      <td>0.000000</td>\n",
       "      <td>1.124937e+06</td>\n",
       "      <td>1558.000000</td>\n",
       "      <td>54.000000</td>\n",
       "      <td>3.600000</td>\n",
       "      <td>34.000000</td>\n",
       "      <td>42.000000</td>\n",
       "    </tr>\n",
       "    <tr>\n",
       "      <th>50%</th>\n",
       "      <td>311.430000</td>\n",
       "      <td>76.000000</td>\n",
       "      <td>299.760000</td>\n",
       "      <td>596.000000</td>\n",
       "      <td>0.000000</td>\n",
       "      <td>0.000000</td>\n",
       "      <td>1.249977e+06</td>\n",
       "      <td>1993.000000</td>\n",
       "      <td>136.000000</td>\n",
       "      <td>4.000000</td>\n",
       "      <td>56.000000</td>\n",
       "      <td>81.000000</td>\n",
       "    </tr>\n",
       "    <tr>\n",
       "      <th>75%</th>\n",
       "      <td>458.810000</td>\n",
       "      <td>110.000000</td>\n",
       "      <td>445.230000</td>\n",
       "      <td>651.000000</td>\n",
       "      <td>0.000000</td>\n",
       "      <td>0.000000</td>\n",
       "      <td>1.374988e+06</td>\n",
       "      <td>2539.000000</td>\n",
       "      <td>324.000000</td>\n",
       "      <td>4.500000</td>\n",
       "      <td>77.000000</td>\n",
       "      <td>118.000000</td>\n",
       "    </tr>\n",
       "    <tr>\n",
       "      <th>max</th>\n",
       "      <td>1112.620000</td>\n",
       "      <td>186.000000</td>\n",
       "      <td>1113.620000</td>\n",
       "      <td>713.000000</td>\n",
       "      <td>1.000000</td>\n",
       "      <td>1.000000</td>\n",
       "      <td>1.499999e+06</td>\n",
       "      <td>2956.000000</td>\n",
       "      <td>24299.000000</td>\n",
       "      <td>7.000000</td>\n",
       "      <td>93.000000</td>\n",
       "      <td>155.000000</td>\n",
       "    </tr>\n",
       "  </tbody>\n",
       "</table>\n",
       "</div>"
      ],
      "text/plain": [
       "          base_price      center_id  checkout_price      city_code  \\\n",
       "count  489121.000000  489121.000000   489121.000000  489121.000000   \n",
       "mean      354.312259      82.092206      332.879277     601.551172   \n",
       "std       160.352168      45.973390      153.022073      66.182598   \n",
       "min        55.350000      10.000000        2.970000     456.000000   \n",
       "25%       243.500000      43.000000      228.010000     553.000000   \n",
       "50%       311.430000      76.000000      299.760000     596.000000   \n",
       "75%       458.810000     110.000000      445.230000     651.000000   \n",
       "max      1112.620000     186.000000     1113.620000     713.000000   \n",
       "\n",
       "       emailer_for_promotion  homepage_featured            id        meal_id  \\\n",
       "count          489121.000000      489121.000000  4.891210e+05  489121.000000   \n",
       "mean                0.080172           0.107346  1.249988e+06    2024.852268   \n",
       "std                 0.271560           0.309552  1.443421e+05     547.408978   \n",
       "min                 0.000000           0.000000  1.000000e+06    1062.000000   \n",
       "25%                 0.000000           0.000000  1.124937e+06    1558.000000   \n",
       "50%                 0.000000           0.000000  1.249977e+06    1993.000000   \n",
       "75%                 0.000000           0.000000  1.374988e+06    2539.000000   \n",
       "max                 1.000000           1.000000  1.499999e+06    2956.000000   \n",
       "\n",
       "          num_orders        op_area    region_code           week  \n",
       "count  456548.000000  489121.000000  489121.000000  489121.000000  \n",
       "mean      261.872760       4.083865      56.621065      79.810613  \n",
       "std       395.922798       1.092163      17.641296      44.343325  \n",
       "min        13.000000       0.900000      23.000000       1.000000  \n",
       "25%        54.000000       3.600000      34.000000      42.000000  \n",
       "50%       136.000000       4.000000      56.000000      81.000000  \n",
       "75%       324.000000       4.500000      77.000000     118.000000  \n",
       "max     24299.000000       7.000000      93.000000     155.000000  "
      ]
     },
     "execution_count": 98,
     "metadata": {},
     "output_type": "execute_result"
    }
   ],
   "source": [
    "data.describe()"
   ]
  },
  {
   "cell_type": "markdown",
   "metadata": {},
   "source": [
    "# Univariate Analysis"
   ]
  },
  {
   "cell_type": "code",
   "execution_count": 99,
   "metadata": {},
   "outputs": [
    {
     "data": {
      "text/plain": [
       "<matplotlib.axes._subplots.AxesSubplot at 0x26044b505f8>"
      ]
     },
     "execution_count": 99,
     "metadata": {},
     "output_type": "execute_result"
    },
    {
     "data": {
      "image/png": "[encoded data removed]",
      "text/plain": [
       "<Figure size 432x288 with 1 Axes>"
      ]
     },
     "metadata": {
      "needs_background": "light"
     },
     "output_type": "display_data"
    }
   ],
   "source": [
    "data[\"num_orders\"].plot.kde()\n",
    "## Data is very much skewed towards right"
   ]
  },
  {
   "cell_type": "code",
   "execution_count": 100,
   "metadata": {},
   "outputs": [
    {
     "data": {
      "text/plain": [
       "base_price                   0\n",
       "category                     0\n",
       "center_id                    0\n",
       "center_type                  0\n",
       "checkout_price               0\n",
       "city_code                    0\n",
       "cuisine                      0\n",
       "emailer_for_promotion        0\n",
       "homepage_featured            0\n",
       "id                           0\n",
       "meal_id                      0\n",
       "num_orders               32573\n",
       "op_area                      0\n",
       "region_code                  0\n",
       "week                         0\n",
       "dtype: int64"
      ]
     },
     "execution_count": 100,
     "metadata": {},
     "output_type": "execute_result"
    }
   ],
   "source": [
    "data.isnull().sum()"
   ]
  },
  {
   "cell_type": "code",
   "execution_count": 101,
   "metadata": {},
   "outputs": [
    {
     "data": {
      "text/plain": [
       "<matplotlib.axes._subplots.AxesSubplot at 0x26030f7a390>"
      ]
     },
     "execution_count": 101,
     "metadata": {},
     "output_type": "execute_result"
    },
    {
     "data": {
      "image/png": "[encoded data removed]",
      "text/plain": [
       "<Figure size 432x288 with 1 Axes>"
      ]
     },
     "metadata": {
      "needs_background": "light"
     },
     "output_type": "display_data"
    }
   ],
   "source": [
    "sns.distplot(data.base_price)"
   ]
  },
  {
   "cell_type": "code",
   "execution_count": 102,
   "metadata": {
    "scrolled": false
   },
   "outputs": [
    {
     "data": {
      "text/plain": [
       "<matplotlib.axes._subplots.AxesSubplot at 0x26030fa10b8>"
      ]
     },
     "execution_count": 102,
     "metadata": {},
     "output_type": "execute_result"
    },
    {
     "data": {
      "image/png": "[encoded data removed]",
      "text/plain": [
       "<Figure size 432x288 with 1 Axes>"
      ]
     },
     "metadata": {
      "needs_background": "light"
     },
     "output_type": "display_data"
    }
   ],
   "source": [
    "sns.boxplot(data.num_orders)"
   ]
  },
  {
   "cell_type": "markdown",
   "metadata": {},
   "source": [
    "Outlier observed which is causing skewness in our data and deviating from normal curve"
   ]
  },
  {
   "cell_type": "code",
   "execution_count": 103,
   "metadata": {},
   "outputs": [
    {
     "data": {
      "text/plain": [
       "8"
      ]
     },
     "execution_count": 103,
     "metadata": {},
     "output_type": "execute_result"
    }
   ],
   "source": [
    "data.region_code.nunique()"
   ]
  },
  {
   "cell_type": "code",
   "execution_count": 104,
   "metadata": {},
   "outputs": [
    {
     "data": {
      "text/plain": [
       "51"
      ]
     },
     "execution_count": 104,
     "metadata": {},
     "output_type": "execute_result"
    }
   ],
   "source": [
    "data.city_code.nunique()"
   ]
  },
  {
   "cell_type": "code",
   "execution_count": 105,
   "metadata": {},
   "outputs": [
    {
     "data": {
      "text/plain": [
       "<matplotlib.axes._subplots.AxesSubplot at 0x2603108ee80>"
      ]
     },
     "execution_count": 105,
     "metadata": {},
     "output_type": "execute_result"
    },
    {
     "data": {
      "image/png": "[encoded data removed]",
      "text/plain": [
       "<Figure size 504x288 with 1 Axes>"
      ]
     },
     "metadata": {
      "needs_background": "light"
     },
     "output_type": "display_data"
    }
   ],
   "source": [
    "plt.figure(figsize=(7,4))\n",
    "data.groupby('category')['base_price'].mean().sort_values(ascending=False).plot(kind='bar')"
   ]
  },
  {
   "cell_type": "markdown",
   "metadata": {},
   "source": [
    "### Seafood having the highest Price or most expensive followed by Pizza"
   ]
  },
  {
   "cell_type": "code",
   "execution_count": 106,
   "metadata": {},
   "outputs": [
    {
     "data": {
      "text/plain": [
       "<matplotlib.axes._subplots.AxesSubplot at 0x260314c4f98>"
      ]
     },
     "execution_count": 106,
     "metadata": {},
     "output_type": "execute_result"
    },
    {
     "data": {
      "image/png": "[encoded data removed]",
      "text/plain": [
       "<Figure size 432x288 with 1 Axes>"
      ]
     },
     "metadata": {
      "needs_background": "light"
     },
     "output_type": "display_data"
    }
   ],
   "source": [
    "sns.countplot(data.cuisine)"
   ]
  },
  {
   "cell_type": "markdown",
   "metadata": {},
   "source": [
    "## Bivariate analysis"
   ]
  },
  {
   "cell_type": "code",
   "execution_count": 107,
   "metadata": {},
   "outputs": [
    {
     "data": {
      "text/plain": [
       "<matplotlib.axes._subplots.AxesSubplot at 0x26031517f60>"
      ]
     },
     "execution_count": 107,
     "metadata": {},
     "output_type": "execute_result"
    },
    {
     "data": {
      "image/png": "[encoded data removed]",
      "text/plain": [
       "<Figure size 432x288 with 1 Axes>"
      ]
     },
     "metadata": {
      "needs_background": "light"
     },
     "output_type": "display_data"
    }
   ],
   "source": [
    "sns.scatterplot(data.checkout_price,data.num_orders)"
   ]
  },
  {
   "cell_type": "code",
   "execution_count": 108,
   "metadata": {},
   "outputs": [
    {
     "data": {
      "text/plain": [
       "<matplotlib.axes._subplots.AxesSubplot at 0x2603154da58>"
      ]
     },
     "execution_count": 108,
     "metadata": {},
     "output_type": "execute_result"
    },
    {
     "data": {
      "image/png": "[encoded data removed]",
      "text/plain": [
       "<Figure size 432x288 with 1 Axes>"
      ]
     },
     "metadata": {
      "needs_background": "light"
     },
     "output_type": "display_data"
    }
   ],
   "source": [
    "sns.scatterplot(data.base_price,data.num_orders)"
   ]
  },
  {
   "cell_type": "code",
   "execution_count": 109,
   "metadata": {},
   "outputs": [
    {
     "data": {
      "text/plain": [
       "<matplotlib.axes._subplots.AxesSubplot at 0x2603154def0>"
      ]
     },
     "execution_count": 109,
     "metadata": {},
     "output_type": "execute_result"
    },
    {
     "data": {
      "image/png": "[encoded data removed]",
      "text/plain": [
       "<Figure size 504x288 with 1 Axes>"
      ]
     },
     "metadata": {
      "needs_background": "light"
     },
     "output_type": "display_data"
    }
   ],
   "source": [
    "plt.figure(figsize=(7,4))\n",
    "sns.barplot(data.center_type,data.num_orders)"
   ]
  },
  {
   "cell_type": "code",
   "execution_count": 110,
   "metadata": {},
   "outputs": [
    {
     "data": {
      "text/plain": [
       "<matplotlib.axes._subplots.AxesSubplot at 0x26030a09b70>"
      ]
     },
     "execution_count": 110,
     "metadata": {},
     "output_type": "execute_result"
    },
    {
     "data": {
      "image/png": "[encoded data removed]",
      "text/plain": [
       "<Figure size 432x288 with 1 Axes>"
      ]
     },
     "metadata": {
      "needs_background": "light"
     },
     "output_type": "display_data"
    }
   ],
   "source": [
    "sns.barplot(data.region_code,data.num_orders,hue=data.center_type)"
   ]
  },
  {
   "cell_type": "markdown",
   "metadata": {},
   "source": [
    "#### Type A center is reaching to all the regions even where B and C are not delivering. but even then the center type A is having less orders as compared to B. Means A is delivering to regions which could be remote areas where people buy occasionally."
   ]
  },
  {
   "cell_type": "code",
   "execution_count": 111,
   "metadata": {},
   "outputs": [
    {
     "data": {
      "text/plain": [
       "<matplotlib.axes._subplots.AxesSubplot at 0x26030ad4c88>"
      ]
     },
     "execution_count": 111,
     "metadata": {},
     "output_type": "execute_result"
    },
    {
     "data": {
      "image/png": "[encoded data removed]",
      "text/plain": [
       "<Figure size 432x288 with 1 Axes>"
      ]
     },
     "metadata": {
      "needs_background": "light"
     },
     "output_type": "display_data"
    }
   ],
   "source": [
    "sns.barplot(data.emailer_for_promotion,data.num_orders)"
   ]
  },
  {
   "cell_type": "code",
   "execution_count": 112,
   "metadata": {},
   "outputs": [
    {
     "data": {
      "text/plain": [
       "<matplotlib.axes._subplots.AxesSubplot at 0x26030b29d68>"
      ]
     },
     "execution_count": 112,
     "metadata": {},
     "output_type": "execute_result"
    },
    {
     "data": {
      "image/png": "[encoded data removed]",
      "text/plain": [
       "<Figure size 432x288 with 1 Axes>"
      ]
     },
     "metadata": {
      "needs_background": "light"
     },
     "output_type": "display_data"
    }
   ],
   "source": [
    "sns.barplot(data.homepage_featured,data.num_orders)"
   ]
  },
  {
   "cell_type": "code",
   "execution_count": 113,
   "metadata": {},
   "outputs": [
    {
     "data": {
      "text/plain": [
       "155"
      ]
     },
     "execution_count": 113,
     "metadata": {},
     "output_type": "execute_result"
    }
   ],
   "source": [
    "data.week.nunique()"
   ]
  },
  {
   "cell_type": "code",
   "execution_count": 114,
   "metadata": {},
   "outputs": [
    {
     "data": {
      "text/html": [
       "<div>\n",
       "<style scoped>\n",
       "    .dataframe tbody tr th:only-of-type {\n",
       "        vertical-align: middle;\n",
       "    }\n",
       "\n",
       "    .dataframe tbody tr th {\n",
       "        vertical-align: top;\n",
       "    }\n",
       "\n",
       "    .dataframe thead th {\n",
       "        text-align: right;\n",
       "    }\n",
       "</style>\n",
       "<table border=\"1\" class=\"dataframe\">\n",
       "  <thead>\n",
       "    <tr style=\"text-align: right;\">\n",
       "      <th></th>\n",
       "      <th>base_price</th>\n",
       "      <th>center_id</th>\n",
       "      <th>checkout_price</th>\n",
       "      <th>city_code</th>\n",
       "      <th>emailer_for_promotion</th>\n",
       "      <th>homepage_featured</th>\n",
       "      <th>id</th>\n",
       "      <th>meal_id</th>\n",
       "      <th>num_orders</th>\n",
       "      <th>op_area</th>\n",
       "      <th>region_code</th>\n",
       "      <th>week</th>\n",
       "    </tr>\n",
       "  </thead>\n",
       "  <tbody>\n",
       "    <tr>\n",
       "      <th>count</th>\n",
       "      <td>489121.000000</td>\n",
       "      <td>489121.000000</td>\n",
       "      <td>489121.000000</td>\n",
       "      <td>489121.000000</td>\n",
       "      <td>489121.000000</td>\n",
       "      <td>489121.000000</td>\n",
       "      <td>4.891210e+05</td>\n",
       "      <td>489121.000000</td>\n",
       "      <td>456548.000000</td>\n",
       "      <td>489121.000000</td>\n",
       "      <td>489121.000000</td>\n",
       "      <td>489121.000000</td>\n",
       "    </tr>\n",
       "    <tr>\n",
       "      <th>mean</th>\n",
       "      <td>354.312259</td>\n",
       "      <td>82.092206</td>\n",
       "      <td>332.879277</td>\n",
       "      <td>601.551172</td>\n",
       "      <td>0.080172</td>\n",
       "      <td>0.107346</td>\n",
       "      <td>1.249988e+06</td>\n",
       "      <td>2024.852268</td>\n",
       "      <td>261.872760</td>\n",
       "      <td>4.083865</td>\n",
       "      <td>56.621065</td>\n",
       "      <td>79.810613</td>\n",
       "    </tr>\n",
       "    <tr>\n",
       "      <th>std</th>\n",
       "      <td>160.352168</td>\n",
       "      <td>45.973390</td>\n",
       "      <td>153.022073</td>\n",
       "      <td>66.182598</td>\n",
       "      <td>0.271560</td>\n",
       "      <td>0.309552</td>\n",
       "      <td>1.443421e+05</td>\n",
       "      <td>547.408978</td>\n",
       "      <td>395.922798</td>\n",
       "      <td>1.092163</td>\n",
       "      <td>17.641296</td>\n",
       "      <td>44.343325</td>\n",
       "    </tr>\n",
       "    <tr>\n",
       "      <th>min</th>\n",
       "      <td>55.350000</td>\n",
       "      <td>10.000000</td>\n",
       "      <td>2.970000</td>\n",
       "      <td>456.000000</td>\n",
       "      <td>0.000000</td>\n",
       "      <td>0.000000</td>\n",
       "      <td>1.000000e+06</td>\n",
       "      <td>1062.000000</td>\n",
       "      <td>13.000000</td>\n",
       "      <td>0.900000</td>\n",
       "      <td>23.000000</td>\n",
       "      <td>1.000000</td>\n",
       "    </tr>\n",
       "    <tr>\n",
       "      <th>25%</th>\n",
       "      <td>243.500000</td>\n",
       "      <td>43.000000</td>\n",
       "      <td>228.010000</td>\n",
       "      <td>553.000000</td>\n",
       "      <td>0.000000</td>\n",
       "      <td>0.000000</td>\n",
       "      <td>1.124937e+06</td>\n",
       "      <td>1558.000000</td>\n",
       "      <td>54.000000</td>\n",
       "      <td>3.600000</td>\n",
       "      <td>34.000000</td>\n",
       "      <td>42.000000</td>\n",
       "    </tr>\n",
       "    <tr>\n",
       "      <th>50%</th>\n",
       "      <td>311.430000</td>\n",
       "      <td>76.000000</td>\n",
       "      <td>299.760000</td>\n",
       "      <td>596.000000</td>\n",
       "      <td>0.000000</td>\n",
       "      <td>0.000000</td>\n",
       "      <td>1.249977e+06</td>\n",
       "      <td>1993.000000</td>\n",
       "      <td>136.000000</td>\n",
       "      <td>4.000000</td>\n",
       "      <td>56.000000</td>\n",
       "      <td>81.000000</td>\n",
       "    </tr>\n",
       "    <tr>\n",
       "      <th>75%</th>\n",
       "      <td>458.810000</td>\n",
       "      <td>110.000000</td>\n",
       "      <td>445.230000</td>\n",
       "      <td>651.000000</td>\n",
       "      <td>0.000000</td>\n",
       "      <td>0.000000</td>\n",
       "      <td>1.374988e+06</td>\n",
       "      <td>2539.000000</td>\n",
       "      <td>324.000000</td>\n",
       "      <td>4.500000</td>\n",
       "      <td>77.000000</td>\n",
       "      <td>118.000000</td>\n",
       "    </tr>\n",
       "    <tr>\n",
       "      <th>max</th>\n",
       "      <td>1112.620000</td>\n",
       "      <td>186.000000</td>\n",
       "      <td>1113.620000</td>\n",
       "      <td>713.000000</td>\n",
       "      <td>1.000000</td>\n",
       "      <td>1.000000</td>\n",
       "      <td>1.499999e+06</td>\n",
       "      <td>2956.000000</td>\n",
       "      <td>24299.000000</td>\n",
       "      <td>7.000000</td>\n",
       "      <td>93.000000</td>\n",
       "      <td>155.000000</td>\n",
       "    </tr>\n",
       "  </tbody>\n",
       "</table>\n",
       "</div>"
      ],
      "text/plain": [
       "          base_price      center_id  checkout_price      city_code  \\\n",
       "count  489121.000000  489121.000000   489121.000000  489121.000000   \n",
       "mean      354.312259      82.092206      332.879277     601.551172   \n",
       "std       160.352168      45.973390      153.022073      66.182598   \n",
       "min        55.350000      10.000000        2.970000     456.000000   \n",
       "25%       243.500000      43.000000      228.010000     553.000000   \n",
       "50%       311.430000      76.000000      299.760000     596.000000   \n",
       "75%       458.810000     110.000000      445.230000     651.000000   \n",
       "max      1112.620000     186.000000     1113.620000     713.000000   \n",
       "\n",
       "       emailer_for_promotion  homepage_featured            id        meal_id  \\\n",
       "count          489121.000000      489121.000000  4.891210e+05  489121.000000   \n",
       "mean                0.080172           0.107346  1.249988e+06    2024.852268   \n",
       "std                 0.271560           0.309552  1.443421e+05     547.408978   \n",
       "min                 0.000000           0.000000  1.000000e+06    1062.000000   \n",
       "25%                 0.000000           0.000000  1.124937e+06    1558.000000   \n",
       "50%                 0.000000           0.000000  1.249977e+06    1993.000000   \n",
       "75%                 0.000000           0.000000  1.374988e+06    2539.000000   \n",
       "max                 1.000000           1.000000  1.499999e+06    2956.000000   \n",
       "\n",
       "          num_orders        op_area    region_code           week  \n",
       "count  456548.000000  489121.000000  489121.000000  489121.000000  \n",
       "mean      261.872760       4.083865      56.621065      79.810613  \n",
       "std       395.922798       1.092163      17.641296      44.343325  \n",
       "min        13.000000       0.900000      23.000000       1.000000  \n",
       "25%        54.000000       3.600000      34.000000      42.000000  \n",
       "50%       136.000000       4.000000      56.000000      81.000000  \n",
       "75%       324.000000       4.500000      77.000000     118.000000  \n",
       "max     24299.000000       7.000000      93.000000     155.000000  "
      ]
     },
     "execution_count": 114,
     "metadata": {},
     "output_type": "execute_result"
    }
   ],
   "source": [
    "data.describe()"
   ]
  },
  {
   "cell_type": "code",
   "execution_count": 115,
   "metadata": {},
   "outputs": [],
   "source": [
    "data[\"discount\"]=data.base_price-data.checkout_price"
   ]
  },
  {
   "cell_type": "code",
   "execution_count": 116,
   "metadata": {},
   "outputs": [],
   "source": [
    "i=data[data[\"discount\"]<=0].index"
   ]
  },
  {
   "cell_type": "code",
   "execution_count": 117,
   "metadata": {},
   "outputs": [],
   "source": [
    "data.loc[i,\"discount\"]=0"
   ]
  },
  {
   "cell_type": "markdown",
   "metadata": {},
   "source": [
    "Items with no discount in negetive are converted to 0 discount"
   ]
  },
  {
   "cell_type": "markdown",
   "metadata": {},
   "source": [
    "#### Now we can drop Checkout price column as valuable insight is taken from that column."
   ]
  },
  {
   "cell_type": "code",
   "execution_count": 118,
   "metadata": {},
   "outputs": [],
   "source": [
    "data.drop('checkout_price',axis=1,inplace=True)"
   ]
  },
  {
   "cell_type": "code",
   "execution_count": 119,
   "metadata": {
    "scrolled": true
   },
   "outputs": [
    {
     "data": {
      "text/html": [
       "<div>\n",
       "<style scoped>\n",
       "    .dataframe tbody tr th:only-of-type {\n",
       "        vertical-align: middle;\n",
       "    }\n",
       "\n",
       "    .dataframe tbody tr th {\n",
       "        vertical-align: top;\n",
       "    }\n",
       "\n",
       "    .dataframe thead th {\n",
       "        text-align: right;\n",
       "    }\n",
       "</style>\n",
       "<table border=\"1\" class=\"dataframe\">\n",
       "  <thead>\n",
       "    <tr style=\"text-align: right;\">\n",
       "      <th></th>\n",
       "      <th>base_price</th>\n",
       "      <th>category</th>\n",
       "      <th>center_id</th>\n",
       "      <th>center_type</th>\n",
       "      <th>city_code</th>\n",
       "      <th>cuisine</th>\n",
       "      <th>emailer_for_promotion</th>\n",
       "      <th>homepage_featured</th>\n",
       "      <th>id</th>\n",
       "      <th>meal_id</th>\n",
       "      <th>num_orders</th>\n",
       "      <th>op_area</th>\n",
       "      <th>region_code</th>\n",
       "      <th>week</th>\n",
       "      <th>discount</th>\n",
       "    </tr>\n",
       "  </thead>\n",
       "  <tbody>\n",
       "    <tr>\n",
       "      <th>0</th>\n",
       "      <td>159.11</td>\n",
       "      <td>Beverages</td>\n",
       "      <td>55</td>\n",
       "      <td>TYPE_C</td>\n",
       "      <td>647</td>\n",
       "      <td>Thai</td>\n",
       "      <td>0</td>\n",
       "      <td>0</td>\n",
       "      <td>1028232</td>\n",
       "      <td>1885</td>\n",
       "      <td>NaN</td>\n",
       "      <td>2.0</td>\n",
       "      <td>56</td>\n",
       "      <td>146</td>\n",
       "      <td>1.0</td>\n",
       "    </tr>\n",
       "    <tr>\n",
       "      <th>1</th>\n",
       "      <td>159.11</td>\n",
       "      <td>Beverages</td>\n",
       "      <td>55</td>\n",
       "      <td>TYPE_C</td>\n",
       "      <td>647</td>\n",
       "      <td>Thai</td>\n",
       "      <td>0</td>\n",
       "      <td>0</td>\n",
       "      <td>1127204</td>\n",
       "      <td>1993</td>\n",
       "      <td>NaN</td>\n",
       "      <td>2.0</td>\n",
       "      <td>56</td>\n",
       "      <td>146</td>\n",
       "      <td>0.0</td>\n",
       "    </tr>\n",
       "    <tr>\n",
       "      <th>2</th>\n",
       "      <td>159.14</td>\n",
       "      <td>Beverages</td>\n",
       "      <td>55</td>\n",
       "      <td>TYPE_C</td>\n",
       "      <td>647</td>\n",
       "      <td>Thai</td>\n",
       "      <td>0</td>\n",
       "      <td>0</td>\n",
       "      <td>1212707</td>\n",
       "      <td>2539</td>\n",
       "      <td>NaN</td>\n",
       "      <td>2.0</td>\n",
       "      <td>56</td>\n",
       "      <td>146</td>\n",
       "      <td>2.0</td>\n",
       "    </tr>\n",
       "    <tr>\n",
       "      <th>3</th>\n",
       "      <td>162.02</td>\n",
       "      <td>Beverages</td>\n",
       "      <td>55</td>\n",
       "      <td>TYPE_C</td>\n",
       "      <td>647</td>\n",
       "      <td>Indian</td>\n",
       "      <td>0</td>\n",
       "      <td>0</td>\n",
       "      <td>1082698</td>\n",
       "      <td>2631</td>\n",
       "      <td>NaN</td>\n",
       "      <td>2.0</td>\n",
       "      <td>56</td>\n",
       "      <td>146</td>\n",
       "      <td>0.0</td>\n",
       "    </tr>\n",
       "    <tr>\n",
       "      <th>4</th>\n",
       "      <td>163.93</td>\n",
       "      <td>Beverages</td>\n",
       "      <td>55</td>\n",
       "      <td>TYPE_C</td>\n",
       "      <td>647</td>\n",
       "      <td>Indian</td>\n",
       "      <td>0</td>\n",
       "      <td>0</td>\n",
       "      <td>1400926</td>\n",
       "      <td>1248</td>\n",
       "      <td>NaN</td>\n",
       "      <td>2.0</td>\n",
       "      <td>56</td>\n",
       "      <td>146</td>\n",
       "      <td>0.0</td>\n",
       "    </tr>\n",
       "    <tr>\n",
       "      <th>5</th>\n",
       "      <td>190.15</td>\n",
       "      <td>Beverages</td>\n",
       "      <td>55</td>\n",
       "      <td>TYPE_C</td>\n",
       "      <td>647</td>\n",
       "      <td>Italian</td>\n",
       "      <td>0</td>\n",
       "      <td>0</td>\n",
       "      <td>1284113</td>\n",
       "      <td>1778</td>\n",
       "      <td>NaN</td>\n",
       "      <td>2.0</td>\n",
       "      <td>56</td>\n",
       "      <td>146</td>\n",
       "      <td>0.0</td>\n",
       "    </tr>\n",
       "    <tr>\n",
       "      <th>6</th>\n",
       "      <td>192.09</td>\n",
       "      <td>Beverages</td>\n",
       "      <td>55</td>\n",
       "      <td>TYPE_C</td>\n",
       "      <td>647</td>\n",
       "      <td>Italian</td>\n",
       "      <td>0</td>\n",
       "      <td>0</td>\n",
       "      <td>1197966</td>\n",
       "      <td>1062</td>\n",
       "      <td>NaN</td>\n",
       "      <td>2.0</td>\n",
       "      <td>56</td>\n",
       "      <td>146</td>\n",
       "      <td>1.0</td>\n",
       "    </tr>\n",
       "    <tr>\n",
       "      <th>7</th>\n",
       "      <td>240.56</td>\n",
       "      <td>Beverages</td>\n",
       "      <td>55</td>\n",
       "      <td>TYPE_C</td>\n",
       "      <td>647</td>\n",
       "      <td>Italian</td>\n",
       "      <td>0</td>\n",
       "      <td>0</td>\n",
       "      <td>1132739</td>\n",
       "      <td>2707</td>\n",
       "      <td>NaN</td>\n",
       "      <td>2.0</td>\n",
       "      <td>56</td>\n",
       "      <td>146</td>\n",
       "      <td>0.0</td>\n",
       "    </tr>\n",
       "    <tr>\n",
       "      <th>8</th>\n",
       "      <td>360.90</td>\n",
       "      <td>Beverages</td>\n",
       "      <td>55</td>\n",
       "      <td>TYPE_C</td>\n",
       "      <td>647</td>\n",
       "      <td>Continental</td>\n",
       "      <td>0</td>\n",
       "      <td>0</td>\n",
       "      <td>1057981</td>\n",
       "      <td>1207</td>\n",
       "      <td>NaN</td>\n",
       "      <td>2.0</td>\n",
       "      <td>56</td>\n",
       "      <td>146</td>\n",
       "      <td>0.0</td>\n",
       "    </tr>\n",
       "    <tr>\n",
       "      <th>9</th>\n",
       "      <td>384.18</td>\n",
       "      <td>Beverages</td>\n",
       "      <td>55</td>\n",
       "      <td>TYPE_C</td>\n",
       "      <td>647</td>\n",
       "      <td>Continental</td>\n",
       "      <td>0</td>\n",
       "      <td>0</td>\n",
       "      <td>1095932</td>\n",
       "      <td>1230</td>\n",
       "      <td>NaN</td>\n",
       "      <td>2.0</td>\n",
       "      <td>56</td>\n",
       "      <td>146</td>\n",
       "      <td>1.0</td>\n",
       "    </tr>\n",
       "  </tbody>\n",
       "</table>\n",
       "</div>"
      ],
      "text/plain": [
       "   base_price   category  center_id center_type  city_code      cuisine  \\\n",
       "0      159.11  Beverages         55      TYPE_C        647         Thai   \n",
       "1      159.11  Beverages         55      TYPE_C        647         Thai   \n",
       "2      159.14  Beverages         55      TYPE_C        647         Thai   \n",
       "3      162.02  Beverages         55      TYPE_C        647       Indian   \n",
       "4      163.93  Beverages         55      TYPE_C        647       Indian   \n",
       "5      190.15  Beverages         55      TYPE_C        647      Italian   \n",
       "6      192.09  Beverages         55      TYPE_C        647      Italian   \n",
       "7      240.56  Beverages         55      TYPE_C        647      Italian   \n",
       "8      360.90  Beverages         55      TYPE_C        647  Continental   \n",
       "9      384.18  Beverages         55      TYPE_C        647  Continental   \n",
       "\n",
       "   emailer_for_promotion  homepage_featured       id  meal_id  num_orders  \\\n",
       "0                      0                  0  1028232     1885         NaN   \n",
       "1                      0                  0  1127204     1993         NaN   \n",
       "2                      0                  0  1212707     2539         NaN   \n",
       "3                      0                  0  1082698     2631         NaN   \n",
       "4                      0                  0  1400926     1248         NaN   \n",
       "5                      0                  0  1284113     1778         NaN   \n",
       "6                      0                  0  1197966     1062         NaN   \n",
       "7                      0                  0  1132739     2707         NaN   \n",
       "8                      0                  0  1057981     1207         NaN   \n",
       "9                      0                  0  1095932     1230         NaN   \n",
       "\n",
       "   op_area  region_code  week  discount  \n",
       "0      2.0           56   146       1.0  \n",
       "1      2.0           56   146       0.0  \n",
       "2      2.0           56   146       2.0  \n",
       "3      2.0           56   146       0.0  \n",
       "4      2.0           56   146       0.0  \n",
       "5      2.0           56   146       0.0  \n",
       "6      2.0           56   146       1.0  \n",
       "7      2.0           56   146       0.0  \n",
       "8      2.0           56   146       0.0  \n",
       "9      2.0           56   146       1.0  "
      ]
     },
     "execution_count": 119,
     "metadata": {},
     "output_type": "execute_result"
    }
   ],
   "source": [
    "data.head(10)"
   ]
  },
  {
   "cell_type": "code",
   "execution_count": 120,
   "metadata": {},
   "outputs": [
    {
     "data": {
      "text/plain": [
       "155"
      ]
     },
     "execution_count": 120,
     "metadata": {},
     "output_type": "execute_result"
    }
   ],
   "source": [
    "data.week.max()"
   ]
  },
  {
   "cell_type": "code",
   "execution_count": 121,
   "metadata": {},
   "outputs": [
    {
     "data": {
      "text/plain": [
       "122    3359\n",
       "105    3348\n",
       "106    3347\n",
       "148    3332\n",
       "140    3332\n",
       "123    3331\n",
       "134    3330\n",
       "133    3324\n",
       "149    3313\n",
       "113    3312\n",
       "100    3309\n",
       "143    3305\n",
       "94     3303\n",
       "144    3302\n",
       "114    3300\n",
       "109    3299\n",
       "121    3298\n",
       "131    3293\n",
       "110    3293\n",
       "129    3291\n",
       "117    3290\n",
       "91     3289\n",
       "101    3288\n",
       "115    3286\n",
       "137    3283\n",
       "90     3282\n",
       "98     3282\n",
       "95     3279\n",
       "139    3279\n",
       "128    3278\n",
       "       ... \n",
       "26     3014\n",
       "35     3004\n",
       "38     2999\n",
       "37     2997\n",
       "25     2972\n",
       "21     2963\n",
       "18     2962\n",
       "23     2960\n",
       "24     2946\n",
       "19     2939\n",
       "20     2924\n",
       "22     2923\n",
       "1      2922\n",
       "3      2899\n",
       "2      2896\n",
       "62     2890\n",
       "4      2889\n",
       "17     2888\n",
       "15     2868\n",
       "11     2863\n",
       "10     2859\n",
       "5      2859\n",
       "9      2854\n",
       "16     2850\n",
       "6      2846\n",
       "13     2838\n",
       "12     2831\n",
       "14     2830\n",
       "7      2795\n",
       "8      2786\n",
       "Name: week, Length: 155, dtype: int64"
      ]
     },
     "execution_count": 121,
     "metadata": {},
     "output_type": "execute_result"
    }
   ],
   "source": [
    "data.week.value_counts()"
   ]
  },
  {
   "cell_type": "markdown",
   "metadata": {},
   "source": [
    "#### Lets see the area where Type b centre is located and find out why its having the highest sales"
   ]
  },
  {
   "cell_type": "code",
   "execution_count": 122,
   "metadata": {},
   "outputs": [
    {
     "data": {
      "text/plain": [
       "4.4    14594\n",
       "3.9    12255\n",
       "6.7     7555\n",
       "6.3     7523\n",
       "5.6     7499\n",
       "7.0     7414\n",
       "5.0     6602\n",
       "4.7     6406\n",
       "3.8     6367\n",
       "4.1     6352\n",
       "4.0     6349\n",
       "4.2     6318\n",
       "3.6     5688\n",
       "Name: op_area, dtype: int64"
      ]
     },
     "execution_count": 122,
     "metadata": {},
     "output_type": "execute_result"
    }
   ],
   "source": [
    "data[data.center_type=='TYPE_B']['op_area'].value_counts()"
   ]
  },
  {
   "cell_type": "code",
   "execution_count": 123,
   "metadata": {},
   "outputs": [
    {
     "data": {
      "text/plain": [
       "Thai           26305\n",
       "Italian        26121\n",
       "Indian         25148\n",
       "Continental    23348\n",
       "Name: cuisine, dtype: int64"
      ]
     },
     "execution_count": 123,
     "metadata": {},
     "output_type": "execute_result"
    }
   ],
   "source": [
    "data[data.center_type=='TYPE_B']['cuisine'].value_counts()"
   ]
  },
  {
   "cell_type": "code",
   "execution_count": 124,
   "metadata": {},
   "outputs": [
    {
     "data": {
      "text/plain": [
       "Italian        74447\n",
       "Thai           74106\n",
       "Indian         69470\n",
       "Continental    63574\n",
       "Name: cuisine, dtype: int64"
      ]
     },
     "execution_count": 124,
     "metadata": {},
     "output_type": "execute_result"
    }
   ],
   "source": [
    "data[data.center_type=='TYPE_A']['cuisine'].value_counts()"
   ]
  },
  {
   "cell_type": "code",
   "execution_count": 125,
   "metadata": {},
   "outputs": [
    {
     "data": {
      "text/plain": [
       "Italian        31193\n",
       "Thai           26147\n",
       "Indian         25801\n",
       "Continental    23461\n",
       "Name: cuisine, dtype: int64"
      ]
     },
     "execution_count": 125,
     "metadata": {},
     "output_type": "execute_result"
    }
   ],
   "source": [
    "data[data.center_type=='TYPE_C']['cuisine'].value_counts()"
   ]
  },
  {
   "cell_type": "code",
   "execution_count": 126,
   "metadata": {},
   "outputs": [
    {
     "data": {
      "text/plain": [
       "<matplotlib.axes._subplots.AxesSubplot at 0x26030a005c0>"
      ]
     },
     "execution_count": 126,
     "metadata": {},
     "output_type": "execute_result"
    },
    {
     "data": {
      "image/png": "[encoded data removed]",
      "text/plain": [
       "<Figure size 504x288 with 1 Axes>"
      ]
     },
     "metadata": {
      "needs_background": "light"
     },
     "output_type": "display_data"
    }
   ],
   "source": [
    "plt.figure(figsize=(7,4))\n",
    "sns.countplot(data.center_type)  ## Type A is reachable the most regions."
   ]
  },
  {
   "cell_type": "markdown",
   "metadata": {},
   "source": [
    "## Which cuisine in beverages is sold the maximum"
   ]
  },
  {
   "cell_type": "code",
   "execution_count": 127,
   "metadata": {},
   "outputs": [
    {
     "data": {
      "text/html": [
       "<div>\n",
       "<style scoped>\n",
       "    .dataframe tbody tr th:only-of-type {\n",
       "        vertical-align: middle;\n",
       "    }\n",
       "\n",
       "    .dataframe tbody tr th {\n",
       "        vertical-align: top;\n",
       "    }\n",
       "\n",
       "    .dataframe thead th {\n",
       "        text-align: right;\n",
       "    }\n",
       "</style>\n",
       "<table border=\"1\" class=\"dataframe\">\n",
       "  <thead>\n",
       "    <tr style=\"text-align: right;\">\n",
       "      <th></th>\n",
       "      <th>cuisine</th>\n",
       "      <th>category</th>\n",
       "      <th>num_orders</th>\n",
       "    </tr>\n",
       "  </thead>\n",
       "  <tbody>\n",
       "    <tr>\n",
       "      <th>134510</th>\n",
       "      <td>Thai</td>\n",
       "      <td>Beverages</td>\n",
       "      <td>9303.0</td>\n",
       "    </tr>\n",
       "    <tr>\n",
       "      <th>300881</th>\n",
       "      <td>Thai</td>\n",
       "      <td>Beverages</td>\n",
       "      <td>9045.0</td>\n",
       "    </tr>\n",
       "    <tr>\n",
       "      <th>131423</th>\n",
       "      <td>Thai</td>\n",
       "      <td>Beverages</td>\n",
       "      <td>7602.0</td>\n",
       "    </tr>\n",
       "    <tr>\n",
       "      <th>307398</th>\n",
       "      <td>Thai</td>\n",
       "      <td>Beverages</td>\n",
       "      <td>7007.0</td>\n",
       "    </tr>\n",
       "    <tr>\n",
       "      <th>143788</th>\n",
       "      <td>Thai</td>\n",
       "      <td>Beverages</td>\n",
       "      <td>6576.0</td>\n",
       "    </tr>\n",
       "  </tbody>\n",
       "</table>\n",
       "</div>"
      ],
      "text/plain": [
       "       cuisine   category  num_orders\n",
       "134510    Thai  Beverages      9303.0\n",
       "300881    Thai  Beverages      9045.0\n",
       "131423    Thai  Beverages      7602.0\n",
       "307398    Thai  Beverages      7007.0\n",
       "143788    Thai  Beverages      6576.0"
      ]
     },
     "execution_count": 127,
     "metadata": {},
     "output_type": "execute_result"
    }
   ],
   "source": [
    "data[data['category']=='Beverages'].sort_values(by='num_orders',ascending=False)[['cuisine','category','num_orders']].head(5)"
   ]
  },
  {
   "cell_type": "markdown",
   "metadata": {},
   "source": [
    "Thai is the most selling cuisine in beverages"
   ]
  },
  {
   "cell_type": "code",
   "execution_count": 128,
   "metadata": {},
   "outputs": [
    {
     "data": {
      "text/plain": [
       "Beverages       136781\n",
       "Rice Bowl        35717\n",
       "Sandwich         35599\n",
       "Pizza            35444\n",
       "Starters         31925\n",
       "Other Snacks     31483\n",
       "Desert           31407\n",
       "Salad            30868\n",
       "Pasta            29621\n",
       "Seafood          28613\n",
       "Biryani          21951\n",
       "Extras           14554\n",
       "Soup             13640\n",
       "Fish             11518\n",
       "Name: category, dtype: int64"
      ]
     },
     "execution_count": 128,
     "metadata": {},
     "output_type": "execute_result"
    }
   ],
   "source": [
    "data.category.value_counts()"
   ]
  },
  {
   "cell_type": "code",
   "execution_count": 129,
   "metadata": {},
   "outputs": [],
   "source": [
    "data.category.replace('Fish','Seafood',inplace=True)\n",
    "data.category.replace(['Salad','Soup'],'Extras',inplace=True)\n",
    "data.category.replace('Other Snacks','Starters',inplace=True)\n",
    "data.category.replace('Biryani','Rice Bowl',inplace=True)"
   ]
  },
  {
   "cell_type": "code",
   "execution_count": 130,
   "metadata": {},
   "outputs": [
    {
     "name": "stdout",
     "output_type": "stream",
     "text": [
      "<class 'pandas.core.frame.DataFrame'>\n",
      "Int64Index: 489121 entries, 0 to 456547\n",
      "Data columns (total 15 columns):\n",
      "base_price               489121 non-null float64\n",
      "category                 489121 non-null object\n",
      "center_id                489121 non-null int64\n",
      "center_type              489121 non-null object\n",
      "city_code                489121 non-null int64\n",
      "cuisine                  489121 non-null object\n",
      "emailer_for_promotion    489121 non-null int64\n",
      "homepage_featured        489121 non-null int64\n",
      "id                       489121 non-null int64\n",
      "meal_id                  489121 non-null int64\n",
      "num_orders               456548 non-null float64\n",
      "op_area                  489121 non-null float64\n",
      "region_code              489121 non-null int64\n",
      "week                     489121 non-null int64\n",
      "discount                 489121 non-null float64\n",
      "dtypes: float64(4), int64(8), object(3)\n",
      "memory usage: 79.7+ MB\n"
     ]
    }
   ],
   "source": [
    "data.info()"
   ]
  },
  {
   "cell_type": "code",
   "execution_count": 131,
   "metadata": {},
   "outputs": [
    {
     "data": {
      "text/html": [
       "<div>\n",
       "<style scoped>\n",
       "    .dataframe tbody tr th:only-of-type {\n",
       "        vertical-align: middle;\n",
       "    }\n",
       "\n",
       "    .dataframe tbody tr th {\n",
       "        vertical-align: top;\n",
       "    }\n",
       "\n",
       "    .dataframe thead th {\n",
       "        text-align: right;\n",
       "    }\n",
       "</style>\n",
       "<table border=\"1\" class=\"dataframe\">\n",
       "  <thead>\n",
       "    <tr style=\"text-align: right;\">\n",
       "      <th></th>\n",
       "      <th>region_code</th>\n",
       "      <th>center_type</th>\n",
       "      <th>city_code</th>\n",
       "    </tr>\n",
       "  </thead>\n",
       "  <tbody>\n",
       "    <tr>\n",
       "      <th>0</th>\n",
       "      <td>56</td>\n",
       "      <td>TYPE_C</td>\n",
       "      <td>647</td>\n",
       "    </tr>\n",
       "    <tr>\n",
       "      <th>1</th>\n",
       "      <td>56</td>\n",
       "      <td>TYPE_C</td>\n",
       "      <td>647</td>\n",
       "    </tr>\n",
       "    <tr>\n",
       "      <th>2</th>\n",
       "      <td>56</td>\n",
       "      <td>TYPE_C</td>\n",
       "      <td>647</td>\n",
       "    </tr>\n",
       "    <tr>\n",
       "      <th>3</th>\n",
       "      <td>56</td>\n",
       "      <td>TYPE_C</td>\n",
       "      <td>647</td>\n",
       "    </tr>\n",
       "    <tr>\n",
       "      <th>4</th>\n",
       "      <td>56</td>\n",
       "      <td>TYPE_C</td>\n",
       "      <td>647</td>\n",
       "    </tr>\n",
       "    <tr>\n",
       "      <th>35</th>\n",
       "      <td>85</td>\n",
       "      <td>TYPE_B</td>\n",
       "      <td>614</td>\n",
       "    </tr>\n",
       "    <tr>\n",
       "      <th>36</th>\n",
       "      <td>85</td>\n",
       "      <td>TYPE_B</td>\n",
       "      <td>614</td>\n",
       "    </tr>\n",
       "    <tr>\n",
       "      <th>37</th>\n",
       "      <td>85</td>\n",
       "      <td>TYPE_B</td>\n",
       "      <td>614</td>\n",
       "    </tr>\n",
       "    <tr>\n",
       "      <th>38</th>\n",
       "      <td>85</td>\n",
       "      <td>TYPE_B</td>\n",
       "      <td>614</td>\n",
       "    </tr>\n",
       "    <tr>\n",
       "      <th>39</th>\n",
       "      <td>85</td>\n",
       "      <td>TYPE_B</td>\n",
       "      <td>614</td>\n",
       "    </tr>\n",
       "    <tr>\n",
       "      <th>80</th>\n",
       "      <td>56</td>\n",
       "      <td>TYPE_A</td>\n",
       "      <td>679</td>\n",
       "    </tr>\n",
       "    <tr>\n",
       "      <th>81</th>\n",
       "      <td>56</td>\n",
       "      <td>TYPE_A</td>\n",
       "      <td>679</td>\n",
       "    </tr>\n",
       "    <tr>\n",
       "      <th>82</th>\n",
       "      <td>56</td>\n",
       "      <td>TYPE_A</td>\n",
       "      <td>679</td>\n",
       "    </tr>\n",
       "    <tr>\n",
       "      <th>83</th>\n",
       "      <td>56</td>\n",
       "      <td>TYPE_A</td>\n",
       "      <td>679</td>\n",
       "    </tr>\n",
       "    <tr>\n",
       "      <th>84</th>\n",
       "      <td>56</td>\n",
       "      <td>TYPE_A</td>\n",
       "      <td>679</td>\n",
       "    </tr>\n",
       "    <tr>\n",
       "      <th>130</th>\n",
       "      <td>77</td>\n",
       "      <td>TYPE_A</td>\n",
       "      <td>659</td>\n",
       "    </tr>\n",
       "    <tr>\n",
       "      <th>131</th>\n",
       "      <td>77</td>\n",
       "      <td>TYPE_A</td>\n",
       "      <td>659</td>\n",
       "    </tr>\n",
       "    <tr>\n",
       "      <th>132</th>\n",
       "      <td>77</td>\n",
       "      <td>TYPE_A</td>\n",
       "      <td>659</td>\n",
       "    </tr>\n",
       "    <tr>\n",
       "      <th>133</th>\n",
       "      <td>77</td>\n",
       "      <td>TYPE_A</td>\n",
       "      <td>659</td>\n",
       "    </tr>\n",
       "    <tr>\n",
       "      <th>134</th>\n",
       "      <td>77</td>\n",
       "      <td>TYPE_A</td>\n",
       "      <td>659</td>\n",
       "    </tr>\n",
       "    <tr>\n",
       "      <th>174</th>\n",
       "      <td>34</td>\n",
       "      <td>TYPE_A</td>\n",
       "      <td>526</td>\n",
       "    </tr>\n",
       "    <tr>\n",
       "      <th>175</th>\n",
       "      <td>34</td>\n",
       "      <td>TYPE_A</td>\n",
       "      <td>526</td>\n",
       "    </tr>\n",
       "    <tr>\n",
       "      <th>176</th>\n",
       "      <td>34</td>\n",
       "      <td>TYPE_A</td>\n",
       "      <td>526</td>\n",
       "    </tr>\n",
       "    <tr>\n",
       "      <th>177</th>\n",
       "      <td>34</td>\n",
       "      <td>TYPE_A</td>\n",
       "      <td>526</td>\n",
       "    </tr>\n",
       "    <tr>\n",
       "      <th>178</th>\n",
       "      <td>34</td>\n",
       "      <td>TYPE_A</td>\n",
       "      <td>526</td>\n",
       "    </tr>\n",
       "    <tr>\n",
       "      <th>217</th>\n",
       "      <td>56</td>\n",
       "      <td>TYPE_B</td>\n",
       "      <td>590</td>\n",
       "    </tr>\n",
       "    <tr>\n",
       "      <th>218</th>\n",
       "      <td>56</td>\n",
       "      <td>TYPE_B</td>\n",
       "      <td>590</td>\n",
       "    </tr>\n",
       "    <tr>\n",
       "      <th>219</th>\n",
       "      <td>56</td>\n",
       "      <td>TYPE_B</td>\n",
       "      <td>590</td>\n",
       "    </tr>\n",
       "    <tr>\n",
       "      <th>220</th>\n",
       "      <td>56</td>\n",
       "      <td>TYPE_B</td>\n",
       "      <td>590</td>\n",
       "    </tr>\n",
       "    <tr>\n",
       "      <th>221</th>\n",
       "      <td>56</td>\n",
       "      <td>TYPE_B</td>\n",
       "      <td>590</td>\n",
       "    </tr>\n",
       "    <tr>\n",
       "      <th>...</th>\n",
       "      <td>...</td>\n",
       "      <td>...</td>\n",
       "      <td>...</td>\n",
       "    </tr>\n",
       "    <tr>\n",
       "      <th>2593</th>\n",
       "      <td>77</td>\n",
       "      <td>TYPE_C</td>\n",
       "      <td>695</td>\n",
       "    </tr>\n",
       "    <tr>\n",
       "      <th>2594</th>\n",
       "      <td>77</td>\n",
       "      <td>TYPE_C</td>\n",
       "      <td>695</td>\n",
       "    </tr>\n",
       "    <tr>\n",
       "      <th>2595</th>\n",
       "      <td>77</td>\n",
       "      <td>TYPE_C</td>\n",
       "      <td>695</td>\n",
       "    </tr>\n",
       "    <tr>\n",
       "      <th>2596</th>\n",
       "      <td>77</td>\n",
       "      <td>TYPE_C</td>\n",
       "      <td>695</td>\n",
       "    </tr>\n",
       "    <tr>\n",
       "      <th>2597</th>\n",
       "      <td>77</td>\n",
       "      <td>TYPE_C</td>\n",
       "      <td>695</td>\n",
       "    </tr>\n",
       "    <tr>\n",
       "      <th>2680</th>\n",
       "      <td>85</td>\n",
       "      <td>TYPE_C</td>\n",
       "      <td>699</td>\n",
       "    </tr>\n",
       "    <tr>\n",
       "      <th>2681</th>\n",
       "      <td>85</td>\n",
       "      <td>TYPE_C</td>\n",
       "      <td>699</td>\n",
       "    </tr>\n",
       "    <tr>\n",
       "      <th>2682</th>\n",
       "      <td>85</td>\n",
       "      <td>TYPE_C</td>\n",
       "      <td>699</td>\n",
       "    </tr>\n",
       "    <tr>\n",
       "      <th>2683</th>\n",
       "      <td>85</td>\n",
       "      <td>TYPE_C</td>\n",
       "      <td>699</td>\n",
       "    </tr>\n",
       "    <tr>\n",
       "      <th>2684</th>\n",
       "      <td>85</td>\n",
       "      <td>TYPE_C</td>\n",
       "      <td>699</td>\n",
       "    </tr>\n",
       "    <tr>\n",
       "      <th>2814</th>\n",
       "      <td>34</td>\n",
       "      <td>TYPE_A</td>\n",
       "      <td>602</td>\n",
       "    </tr>\n",
       "    <tr>\n",
       "      <th>2815</th>\n",
       "      <td>34</td>\n",
       "      <td>TYPE_A</td>\n",
       "      <td>602</td>\n",
       "    </tr>\n",
       "    <tr>\n",
       "      <th>2816</th>\n",
       "      <td>34</td>\n",
       "      <td>TYPE_A</td>\n",
       "      <td>602</td>\n",
       "    </tr>\n",
       "    <tr>\n",
       "      <th>2817</th>\n",
       "      <td>34</td>\n",
       "      <td>TYPE_A</td>\n",
       "      <td>602</td>\n",
       "    </tr>\n",
       "    <tr>\n",
       "      <th>2818</th>\n",
       "      <td>34</td>\n",
       "      <td>TYPE_A</td>\n",
       "      <td>602</td>\n",
       "    </tr>\n",
       "    <tr>\n",
       "      <th>2927</th>\n",
       "      <td>77</td>\n",
       "      <td>TYPE_A</td>\n",
       "      <td>485</td>\n",
       "    </tr>\n",
       "    <tr>\n",
       "      <th>2928</th>\n",
       "      <td>77</td>\n",
       "      <td>TYPE_A</td>\n",
       "      <td>485</td>\n",
       "    </tr>\n",
       "    <tr>\n",
       "      <th>2929</th>\n",
       "      <td>77</td>\n",
       "      <td>TYPE_A</td>\n",
       "      <td>485</td>\n",
       "    </tr>\n",
       "    <tr>\n",
       "      <th>2930</th>\n",
       "      <td>77</td>\n",
       "      <td>TYPE_A</td>\n",
       "      <td>485</td>\n",
       "    </tr>\n",
       "    <tr>\n",
       "      <th>2931</th>\n",
       "      <td>77</td>\n",
       "      <td>TYPE_A</td>\n",
       "      <td>485</td>\n",
       "    </tr>\n",
       "    <tr>\n",
       "      <th>3019</th>\n",
       "      <td>23</td>\n",
       "      <td>TYPE_A</td>\n",
       "      <td>698</td>\n",
       "    </tr>\n",
       "    <tr>\n",
       "      <th>3020</th>\n",
       "      <td>23</td>\n",
       "      <td>TYPE_A</td>\n",
       "      <td>698</td>\n",
       "    </tr>\n",
       "    <tr>\n",
       "      <th>3021</th>\n",
       "      <td>23</td>\n",
       "      <td>TYPE_A</td>\n",
       "      <td>698</td>\n",
       "    </tr>\n",
       "    <tr>\n",
       "      <th>3022</th>\n",
       "      <td>23</td>\n",
       "      <td>TYPE_A</td>\n",
       "      <td>698</td>\n",
       "    </tr>\n",
       "    <tr>\n",
       "      <th>3023</th>\n",
       "      <td>23</td>\n",
       "      <td>TYPE_A</td>\n",
       "      <td>698</td>\n",
       "    </tr>\n",
       "    <tr>\n",
       "      <th>3198</th>\n",
       "      <td>77</td>\n",
       "      <td>TYPE_A</td>\n",
       "      <td>473</td>\n",
       "    </tr>\n",
       "    <tr>\n",
       "      <th>3199</th>\n",
       "      <td>77</td>\n",
       "      <td>TYPE_A</td>\n",
       "      <td>473</td>\n",
       "    </tr>\n",
       "    <tr>\n",
       "      <th>3200</th>\n",
       "      <td>77</td>\n",
       "      <td>TYPE_A</td>\n",
       "      <td>473</td>\n",
       "    </tr>\n",
       "    <tr>\n",
       "      <th>3201</th>\n",
       "      <td>77</td>\n",
       "      <td>TYPE_A</td>\n",
       "      <td>473</td>\n",
       "    </tr>\n",
       "    <tr>\n",
       "      <th>3202</th>\n",
       "      <td>77</td>\n",
       "      <td>TYPE_A</td>\n",
       "      <td>473</td>\n",
       "    </tr>\n",
       "  </tbody>\n",
       "</table>\n",
       "<p>255 rows × 3 columns</p>\n",
       "</div>"
      ],
      "text/plain": [
       "      region_code center_type  city_code\n",
       "0              56      TYPE_C        647\n",
       "1              56      TYPE_C        647\n",
       "2              56      TYPE_C        647\n",
       "3              56      TYPE_C        647\n",
       "4              56      TYPE_C        647\n",
       "35             85      TYPE_B        614\n",
       "36             85      TYPE_B        614\n",
       "37             85      TYPE_B        614\n",
       "38             85      TYPE_B        614\n",
       "39             85      TYPE_B        614\n",
       "80             56      TYPE_A        679\n",
       "81             56      TYPE_A        679\n",
       "82             56      TYPE_A        679\n",
       "83             56      TYPE_A        679\n",
       "84             56      TYPE_A        679\n",
       "130            77      TYPE_A        659\n",
       "131            77      TYPE_A        659\n",
       "132            77      TYPE_A        659\n",
       "133            77      TYPE_A        659\n",
       "134            77      TYPE_A        659\n",
       "174            34      TYPE_A        526\n",
       "175            34      TYPE_A        526\n",
       "176            34      TYPE_A        526\n",
       "177            34      TYPE_A        526\n",
       "178            34      TYPE_A        526\n",
       "217            56      TYPE_B        590\n",
       "218            56      TYPE_B        590\n",
       "219            56      TYPE_B        590\n",
       "220            56      TYPE_B        590\n",
       "221            56      TYPE_B        590\n",
       "...           ...         ...        ...\n",
       "2593           77      TYPE_C        695\n",
       "2594           77      TYPE_C        695\n",
       "2595           77      TYPE_C        695\n",
       "2596           77      TYPE_C        695\n",
       "2597           77      TYPE_C        695\n",
       "2680           85      TYPE_C        699\n",
       "2681           85      TYPE_C        699\n",
       "2682           85      TYPE_C        699\n",
       "2683           85      TYPE_C        699\n",
       "2684           85      TYPE_C        699\n",
       "2814           34      TYPE_A        602\n",
       "2815           34      TYPE_A        602\n",
       "2816           34      TYPE_A        602\n",
       "2817           34      TYPE_A        602\n",
       "2818           34      TYPE_A        602\n",
       "2927           77      TYPE_A        485\n",
       "2928           77      TYPE_A        485\n",
       "2929           77      TYPE_A        485\n",
       "2930           77      TYPE_A        485\n",
       "2931           77      TYPE_A        485\n",
       "3019           23      TYPE_A        698\n",
       "3020           23      TYPE_A        698\n",
       "3021           23      TYPE_A        698\n",
       "3022           23      TYPE_A        698\n",
       "3023           23      TYPE_A        698\n",
       "3198           77      TYPE_A        473\n",
       "3199           77      TYPE_A        473\n",
       "3200           77      TYPE_A        473\n",
       "3201           77      TYPE_A        473\n",
       "3202           77      TYPE_A        473\n",
       "\n",
       "[255 rows x 3 columns]"
      ]
     },
     "execution_count": 131,
     "metadata": {},
     "output_type": "execute_result"
    }
   ],
   "source": [
    "data.groupby('city_code')['region_code','center_type','city_code'].head() ## can see that region code,center_type and city code are related to each other."
   ]
  },
  {
   "cell_type": "code",
   "execution_count": 132,
   "metadata": {},
   "outputs": [
    {
     "data": {
      "text/plain": [
       "TYPE_A    0.575721\n",
       "TYPE_C    0.217946\n",
       "TYPE_B    0.206333\n",
       "Name: center_type, dtype: float64"
      ]
     },
     "execution_count": 132,
     "metadata": {},
     "output_type": "execute_result"
    }
   ],
   "source": [
    "data.center_type.value_counts(normalize=True)  ## This has 60 % of the data so it will create biasness in our data"
   ]
  },
  {
   "cell_type": "code",
   "execution_count": 133,
   "metadata": {},
   "outputs": [],
   "source": [
    "data.center_type=train.center_type.replace([\"TYPE_B\",\"TYPE_C\",\"TYPE_A\"],['Others','Others','TYPE_A'])"
   ]
  },
  {
   "cell_type": "code",
   "execution_count": 134,
   "metadata": {},
   "outputs": [
    {
     "data": {
      "text/plain": [
       "51"
      ]
     },
     "execution_count": 134,
     "metadata": {},
     "output_type": "execute_result"
    }
   ],
   "source": [
    "data.city_code.nunique()"
   ]
  },
  {
   "cell_type": "code",
   "execution_count": 135,
   "metadata": {},
   "outputs": [
    {
     "data": {
      "text/html": [
       "<div>\n",
       "<style scoped>\n",
       "    .dataframe tbody tr th:only-of-type {\n",
       "        vertical-align: middle;\n",
       "    }\n",
       "\n",
       "    .dataframe tbody tr th {\n",
       "        vertical-align: top;\n",
       "    }\n",
       "\n",
       "    .dataframe thead th {\n",
       "        text-align: right;\n",
       "    }\n",
       "</style>\n",
       "<table border=\"1\" class=\"dataframe\">\n",
       "  <thead>\n",
       "    <tr style=\"text-align: right;\">\n",
       "      <th></th>\n",
       "      <th>base_price</th>\n",
       "      <th>center_id</th>\n",
       "      <th>city_code</th>\n",
       "      <th>emailer_for_promotion</th>\n",
       "      <th>homepage_featured</th>\n",
       "      <th>id</th>\n",
       "      <th>meal_id</th>\n",
       "      <th>num_orders</th>\n",
       "      <th>op_area</th>\n",
       "      <th>region_code</th>\n",
       "      <th>week</th>\n",
       "      <th>discount</th>\n",
       "    </tr>\n",
       "  </thead>\n",
       "  <tbody>\n",
       "    <tr>\n",
       "      <th>count</th>\n",
       "      <td>489121.000000</td>\n",
       "      <td>489121.000000</td>\n",
       "      <td>489121.000000</td>\n",
       "      <td>489121.000000</td>\n",
       "      <td>489121.000000</td>\n",
       "      <td>4.891210e+05</td>\n",
       "      <td>489121.000000</td>\n",
       "      <td>456548.000000</td>\n",
       "      <td>489121.000000</td>\n",
       "      <td>489121.000000</td>\n",
       "      <td>489121.000000</td>\n",
       "      <td>489121.000000</td>\n",
       "    </tr>\n",
       "    <tr>\n",
       "      <th>mean</th>\n",
       "      <td>354.312259</td>\n",
       "      <td>82.092206</td>\n",
       "      <td>601.551172</td>\n",
       "      <td>0.080172</td>\n",
       "      <td>0.107346</td>\n",
       "      <td>1.249988e+06</td>\n",
       "      <td>2024.852268</td>\n",
       "      <td>261.872760</td>\n",
       "      <td>4.083865</td>\n",
       "      <td>56.621065</td>\n",
       "      <td>79.810613</td>\n",
       "      <td>20.591609</td>\n",
       "    </tr>\n",
       "    <tr>\n",
       "      <th>std</th>\n",
       "      <td>160.352168</td>\n",
       "      <td>45.973390</td>\n",
       "      <td>66.182598</td>\n",
       "      <td>0.271560</td>\n",
       "      <td>0.309552</td>\n",
       "      <td>1.443421e+05</td>\n",
       "      <td>547.408978</td>\n",
       "      <td>395.922798</td>\n",
       "      <td>1.092163</td>\n",
       "      <td>17.641296</td>\n",
       "      <td>44.343325</td>\n",
       "      <td>46.599322</td>\n",
       "    </tr>\n",
       "    <tr>\n",
       "      <th>min</th>\n",
       "      <td>55.350000</td>\n",
       "      <td>10.000000</td>\n",
       "      <td>456.000000</td>\n",
       "      <td>0.000000</td>\n",
       "      <td>0.000000</td>\n",
       "      <td>1.000000e+06</td>\n",
       "      <td>1062.000000</td>\n",
       "      <td>13.000000</td>\n",
       "      <td>0.900000</td>\n",
       "      <td>23.000000</td>\n",
       "      <td>1.000000</td>\n",
       "      <td>0.000000</td>\n",
       "    </tr>\n",
       "    <tr>\n",
       "      <th>25%</th>\n",
       "      <td>243.500000</td>\n",
       "      <td>43.000000</td>\n",
       "      <td>553.000000</td>\n",
       "      <td>0.000000</td>\n",
       "      <td>0.000000</td>\n",
       "      <td>1.124937e+06</td>\n",
       "      <td>1558.000000</td>\n",
       "      <td>54.000000</td>\n",
       "      <td>3.600000</td>\n",
       "      <td>34.000000</td>\n",
       "      <td>42.000000</td>\n",
       "      <td>0.000000</td>\n",
       "    </tr>\n",
       "    <tr>\n",
       "      <th>50%</th>\n",
       "      <td>311.430000</td>\n",
       "      <td>76.000000</td>\n",
       "      <td>596.000000</td>\n",
       "      <td>0.000000</td>\n",
       "      <td>0.000000</td>\n",
       "      <td>1.249977e+06</td>\n",
       "      <td>1993.000000</td>\n",
       "      <td>136.000000</td>\n",
       "      <td>4.000000</td>\n",
       "      <td>56.000000</td>\n",
       "      <td>81.000000</td>\n",
       "      <td>0.000000</td>\n",
       "    </tr>\n",
       "    <tr>\n",
       "      <th>75%</th>\n",
       "      <td>458.810000</td>\n",
       "      <td>110.000000</td>\n",
       "      <td>651.000000</td>\n",
       "      <td>0.000000</td>\n",
       "      <td>0.000000</td>\n",
       "      <td>1.374988e+06</td>\n",
       "      <td>2539.000000</td>\n",
       "      <td>324.000000</td>\n",
       "      <td>4.500000</td>\n",
       "      <td>77.000000</td>\n",
       "      <td>118.000000</td>\n",
       "      <td>2.000000</td>\n",
       "    </tr>\n",
       "    <tr>\n",
       "      <th>max</th>\n",
       "      <td>1112.620000</td>\n",
       "      <td>186.000000</td>\n",
       "      <td>713.000000</td>\n",
       "      <td>1.000000</td>\n",
       "      <td>1.000000</td>\n",
       "      <td>1.499999e+06</td>\n",
       "      <td>2956.000000</td>\n",
       "      <td>24299.000000</td>\n",
       "      <td>7.000000</td>\n",
       "      <td>93.000000</td>\n",
       "      <td>155.000000</td>\n",
       "      <td>776.000000</td>\n",
       "    </tr>\n",
       "  </tbody>\n",
       "</table>\n",
       "</div>"
      ],
      "text/plain": [
       "          base_price      center_id      city_code  emailer_for_promotion  \\\n",
       "count  489121.000000  489121.000000  489121.000000          489121.000000   \n",
       "mean      354.312259      82.092206     601.551172               0.080172   \n",
       "std       160.352168      45.973390      66.182598               0.271560   \n",
       "min        55.350000      10.000000     456.000000               0.000000   \n",
       "25%       243.500000      43.000000     553.000000               0.000000   \n",
       "50%       311.430000      76.000000     596.000000               0.000000   \n",
       "75%       458.810000     110.000000     651.000000               0.000000   \n",
       "max      1112.620000     186.000000     713.000000               1.000000   \n",
       "\n",
       "       homepage_featured            id        meal_id     num_orders  \\\n",
       "count      489121.000000  4.891210e+05  489121.000000  456548.000000   \n",
       "mean            0.107346  1.249988e+06    2024.852268     261.872760   \n",
       "std             0.309552  1.443421e+05     547.408978     395.922798   \n",
       "min             0.000000  1.000000e+06    1062.000000      13.000000   \n",
       "25%             0.000000  1.124937e+06    1558.000000      54.000000   \n",
       "50%             0.000000  1.249977e+06    1993.000000     136.000000   \n",
       "75%             0.000000  1.374988e+06    2539.000000     324.000000   \n",
       "max             1.000000  1.499999e+06    2956.000000   24299.000000   \n",
       "\n",
       "             op_area    region_code           week       discount  \n",
       "count  489121.000000  489121.000000  489121.000000  489121.000000  \n",
       "mean        4.083865      56.621065      79.810613      20.591609  \n",
       "std         1.092163      17.641296      44.343325      46.599322  \n",
       "min         0.900000      23.000000       1.000000       0.000000  \n",
       "25%         3.600000      34.000000      42.000000       0.000000  \n",
       "50%         4.000000      56.000000      81.000000       0.000000  \n",
       "75%         4.500000      77.000000     118.000000       2.000000  \n",
       "max         7.000000      93.000000     155.000000     776.000000  "
      ]
     },
     "execution_count": 135,
     "metadata": {},
     "output_type": "execute_result"
    }
   ],
   "source": [
    "data.describe()"
   ]
  },
  {
   "cell_type": "code",
   "execution_count": 136,
   "metadata": {},
   "outputs": [
    {
     "data": {
      "text/plain": [
       "32573"
      ]
     },
     "execution_count": 136,
     "metadata": {},
     "output_type": "execute_result"
    }
   ],
   "source": [
    "data.isnull().sum().sum()"
   ]
  },
  {
   "cell_type": "code",
   "execution_count": null,
   "metadata": {},
   "outputs": [],
   "source": []
  },
  {
   "cell_type": "code",
   "execution_count": 137,
   "metadata": {},
   "outputs": [],
   "source": [
    "## Binning Price column\n",
    "bin_edges=[55,250,310,458,867]\n",
    "bin_names=['Low',\"Average\",\"High\",'Higher']\n",
    "data.base_price=pd.cut(data.base_price,bin_edges,4,bin_names)"
   ]
  },
  {
   "cell_type": "code",
   "execution_count": 138,
   "metadata": {},
   "outputs": [],
   "source": [
    "data['num_orders_log']=np.log(data.num_orders)"
   ]
  },
  {
   "cell_type": "markdown",
   "metadata": {},
   "source": [
    "#### We see that city code is very much dependent on region_code and center_type.\n",
    "#### So removing this column will lead to better inferences as its a column not worth to be kept"
   ]
  },
  {
   "cell_type": "code",
   "execution_count": 139,
   "metadata": {},
   "outputs": [],
   "source": [
    "data.drop(['city_code'],axis=1,inplace=True)"
   ]
  },
  {
   "cell_type": "code",
   "execution_count": 140,
   "metadata": {},
   "outputs": [
    {
     "data": {
      "text/html": [
       "<div>\n",
       "<style scoped>\n",
       "    .dataframe tbody tr th:only-of-type {\n",
       "        vertical-align: middle;\n",
       "    }\n",
       "\n",
       "    .dataframe tbody tr th {\n",
       "        vertical-align: top;\n",
       "    }\n",
       "\n",
       "    .dataframe thead th {\n",
       "        text-align: right;\n",
       "    }\n",
       "</style>\n",
       "<table border=\"1\" class=\"dataframe\">\n",
       "  <thead>\n",
       "    <tr style=\"text-align: right;\">\n",
       "      <th></th>\n",
       "      <th>base_price</th>\n",
       "      <th>category</th>\n",
       "      <th>center_id</th>\n",
       "      <th>center_type</th>\n",
       "      <th>cuisine</th>\n",
       "      <th>emailer_for_promotion</th>\n",
       "      <th>homepage_featured</th>\n",
       "      <th>id</th>\n",
       "      <th>meal_id</th>\n",
       "      <th>num_orders</th>\n",
       "      <th>op_area</th>\n",
       "      <th>region_code</th>\n",
       "      <th>week</th>\n",
       "      <th>discount</th>\n",
       "      <th>num_orders_log</th>\n",
       "    </tr>\n",
       "  </thead>\n",
       "  <tbody>\n",
       "    <tr>\n",
       "      <th>0</th>\n",
       "      <td>Low</td>\n",
       "      <td>Beverages</td>\n",
       "      <td>55</td>\n",
       "      <td>Others</td>\n",
       "      <td>Thai</td>\n",
       "      <td>0</td>\n",
       "      <td>0</td>\n",
       "      <td>1028232</td>\n",
       "      <td>1885</td>\n",
       "      <td>NaN</td>\n",
       "      <td>2.0</td>\n",
       "      <td>56</td>\n",
       "      <td>146</td>\n",
       "      <td>1.0</td>\n",
       "      <td>NaN</td>\n",
       "    </tr>\n",
       "    <tr>\n",
       "      <th>1</th>\n",
       "      <td>Low</td>\n",
       "      <td>Beverages</td>\n",
       "      <td>55</td>\n",
       "      <td>Others</td>\n",
       "      <td>Thai</td>\n",
       "      <td>0</td>\n",
       "      <td>0</td>\n",
       "      <td>1127204</td>\n",
       "      <td>1993</td>\n",
       "      <td>NaN</td>\n",
       "      <td>2.0</td>\n",
       "      <td>56</td>\n",
       "      <td>146</td>\n",
       "      <td>0.0</td>\n",
       "      <td>NaN</td>\n",
       "    </tr>\n",
       "    <tr>\n",
       "      <th>2</th>\n",
       "      <td>Low</td>\n",
       "      <td>Beverages</td>\n",
       "      <td>55</td>\n",
       "      <td>Others</td>\n",
       "      <td>Thai</td>\n",
       "      <td>0</td>\n",
       "      <td>0</td>\n",
       "      <td>1212707</td>\n",
       "      <td>2539</td>\n",
       "      <td>NaN</td>\n",
       "      <td>2.0</td>\n",
       "      <td>56</td>\n",
       "      <td>146</td>\n",
       "      <td>2.0</td>\n",
       "      <td>NaN</td>\n",
       "    </tr>\n",
       "    <tr>\n",
       "      <th>3</th>\n",
       "      <td>Low</td>\n",
       "      <td>Beverages</td>\n",
       "      <td>55</td>\n",
       "      <td>Others</td>\n",
       "      <td>Indian</td>\n",
       "      <td>0</td>\n",
       "      <td>0</td>\n",
       "      <td>1082698</td>\n",
       "      <td>2631</td>\n",
       "      <td>NaN</td>\n",
       "      <td>2.0</td>\n",
       "      <td>56</td>\n",
       "      <td>146</td>\n",
       "      <td>0.0</td>\n",
       "      <td>NaN</td>\n",
       "    </tr>\n",
       "    <tr>\n",
       "      <th>4</th>\n",
       "      <td>Low</td>\n",
       "      <td>Beverages</td>\n",
       "      <td>55</td>\n",
       "      <td>Others</td>\n",
       "      <td>Indian</td>\n",
       "      <td>0</td>\n",
       "      <td>0</td>\n",
       "      <td>1400926</td>\n",
       "      <td>1248</td>\n",
       "      <td>NaN</td>\n",
       "      <td>2.0</td>\n",
       "      <td>56</td>\n",
       "      <td>146</td>\n",
       "      <td>0.0</td>\n",
       "      <td>NaN</td>\n",
       "    </tr>\n",
       "  </tbody>\n",
       "</table>\n",
       "</div>"
      ],
      "text/plain": [
       "  base_price   category  center_id center_type cuisine  emailer_for_promotion  \\\n",
       "0        Low  Beverages         55      Others    Thai                      0   \n",
       "1        Low  Beverages         55      Others    Thai                      0   \n",
       "2        Low  Beverages         55      Others    Thai                      0   \n",
       "3        Low  Beverages         55      Others  Indian                      0   \n",
       "4        Low  Beverages         55      Others  Indian                      0   \n",
       "\n",
       "   homepage_featured       id  meal_id  num_orders  op_area  region_code  \\\n",
       "0                  0  1028232     1885         NaN      2.0           56   \n",
       "1                  0  1127204     1993         NaN      2.0           56   \n",
       "2                  0  1212707     2539         NaN      2.0           56   \n",
       "3                  0  1082698     2631         NaN      2.0           56   \n",
       "4                  0  1400926     1248         NaN      2.0           56   \n",
       "\n",
       "   week  discount  num_orders_log  \n",
       "0   146       1.0             NaN  \n",
       "1   146       0.0             NaN  \n",
       "2   146       2.0             NaN  \n",
       "3   146       0.0             NaN  \n",
       "4   146       0.0             NaN  "
      ]
     },
     "execution_count": 140,
     "metadata": {},
     "output_type": "execute_result"
    }
   ],
   "source": [
    "data.head()"
   ]
  },
  {
   "cell_type": "code",
   "execution_count": 141,
   "metadata": {},
   "outputs": [],
   "source": [
    "x=data.drop(['num_orders','num_orders_log','id','meal_id','center_id'],axis=1)\n",
    "y=data.num_orders_log"
   ]
  },
  {
   "cell_type": "code",
   "execution_count": 142,
   "metadata": {},
   "outputs": [],
   "source": [
    "## change here"
   ]
  },
  {
   "cell_type": "code",
   "execution_count": 143,
   "metadata": {},
   "outputs": [
    {
     "data": {
      "text/plain": [
       "(32573, 15)"
      ]
     },
     "execution_count": 143,
     "metadata": {},
     "output_type": "execute_result"
    }
   ],
   "source": [
    "data[data.num_orders_log.isnull()].shape"
   ]
  },
  {
   "cell_type": "code",
   "execution_count": 144,
   "metadata": {},
   "outputs": [],
   "source": [
    "## one hot encoding\n",
    "x_dummy=pd.get_dummies(x,drop_first=True)"
   ]
  },
  {
   "cell_type": "code",
   "execution_count": 145,
   "metadata": {},
   "outputs": [],
   "source": [
    "## Train test split\n",
    "from sklearn.model_selection import train_test_split\n",
    "xtrain,xtest,ytrain,ytest=train_test_split(x_dummy,y,test_size=0.2,random_state=2)"
   ]
  },
  {
   "cell_type": "code",
   "execution_count": 146,
   "metadata": {},
   "outputs": [
    {
     "data": {
      "text/plain": [
       "emailer_for_promotion    0\n",
       "homepage_featured        0\n",
       "op_area                  0\n",
       "region_code              0\n",
       "week                     0\n",
       "discount                 0\n",
       "base_price_Average       0\n",
       "base_price_High          0\n",
       "base_price_Higher        0\n",
       "category_Desert          0\n",
       "category_Extras          0\n",
       "category_Pasta           0\n",
       "category_Pizza           0\n",
       "category_Rice Bowl       0\n",
       "category_Sandwich        0\n",
       "category_Seafood         0\n",
       "category_Starters        0\n",
       "center_type_TYPE_A       0\n",
       "cuisine_Indian           0\n",
       "cuisine_Italian          0\n",
       "cuisine_Thai             0\n",
       "dtype: int64"
      ]
     },
     "execution_count": 146,
     "metadata": {},
     "output_type": "execute_result"
    }
   ],
   "source": [
    "x_dummy.isnull().sum()"
   ]
  },
  {
   "cell_type": "code",
   "execution_count": 147,
   "metadata": {},
   "outputs": [],
   "source": [
    "### Scaling"
   ]
  },
  {
   "cell_type": "code",
   "execution_count": 148,
   "metadata": {},
   "outputs": [],
   "source": [
    "from sklearn.preprocessing import StandardScaler\n",
    "sc=StandardScaler()"
   ]
  },
  {
   "cell_type": "code",
   "execution_count": 149,
   "metadata": {},
   "outputs": [
    {
     "name": "stderr",
     "output_type": "stream",
     "text": [
      "C:\\Users\\sja\\AppData\\Local\\Continuum\\anaconda3\\lib\\site-packages\\sklearn\\preprocessing\\data.py:645: DataConversionWarning: Data with input dtype uint8, int64, float64 were all converted to float64 by StandardScaler.\n",
      "  return self.partial_fit(X, y)\n",
      "C:\\Users\\sja\\AppData\\Local\\Continuum\\anaconda3\\lib\\site-packages\\sklearn\\base.py:464: DataConversionWarning: Data with input dtype uint8, int64, float64 were all converted to float64 by StandardScaler.\n",
      "  return self.fit(X, **fit_params).transform(X)\n",
      "C:\\Users\\sja\\AppData\\Local\\Continuum\\anaconda3\\lib\\site-packages\\ipykernel_launcher.py:2: DataConversionWarning: Data with input dtype uint8, int64, float64 were all converted to float64 by StandardScaler.\n",
      "  \n"
     ]
    }
   ],
   "source": [
    "xtrain_scaled=sc.fit_transform(xtrain)\n",
    "xtest_scaled=sc.transform(xtest)"
   ]
  },
  {
   "cell_type": "markdown",
   "metadata": {},
   "source": [
    "## Linear regression"
   ]
  },
  {
   "cell_type": "code",
   "execution_count": 150,
   "metadata": {},
   "outputs": [],
   "source": [
    "from sklearn.linear_model import LinearRegression\n",
    "lr=LinearRegression()"
   ]
  },
  {
   "cell_type": "code",
   "execution_count": 151,
   "metadata": {},
   "outputs": [
    {
     "ename": "ValueError",
     "evalue": "Input contains NaN, infinity or a value too large for dtype('float64').",
     "output_type": "error",
     "traceback": [
      "\u001b[1;31m---------------------------------------------------------------------------\u001b[0m",
      "\u001b[1;31mValueError\u001b[0m                                Traceback (most recent call last)",
      "\u001b[1;32m<ipython-input-151-2489c847c59a>\u001b[0m in \u001b[0;36m<module>\u001b[1;34m\u001b[0m\n\u001b[1;32m----> 1\u001b[1;33m \u001b[0mypred\u001b[0m\u001b[1;33m=\u001b[0m\u001b[0mlr\u001b[0m\u001b[1;33m.\u001b[0m\u001b[0mfit\u001b[0m\u001b[1;33m(\u001b[0m\u001b[0mxtrain_scaled\u001b[0m\u001b[1;33m,\u001b[0m\u001b[0mytrain\u001b[0m\u001b[1;33m)\u001b[0m\u001b[1;33m.\u001b[0m\u001b[0mpredict\u001b[0m\u001b[1;33m(\u001b[0m\u001b[0mxtest_scaled\u001b[0m\u001b[1;33m)\u001b[0m\u001b[1;33m\u001b[0m\u001b[1;33m\u001b[0m\u001b[0m\n\u001b[0m",
      "\u001b[1;32m~\\AppData\\Local\\Continuum\\anaconda3\\lib\\site-packages\\sklearn\\linear_model\\base.py\u001b[0m in \u001b[0;36mfit\u001b[1;34m(self, X, y, sample_weight)\u001b[0m\n\u001b[0;32m    456\u001b[0m         \u001b[0mn_jobs_\u001b[0m \u001b[1;33m=\u001b[0m \u001b[0mself\u001b[0m\u001b[1;33m.\u001b[0m\u001b[0mn_jobs\u001b[0m\u001b[1;33m\u001b[0m\u001b[1;33m\u001b[0m\u001b[0m\n\u001b[0;32m    457\u001b[0m         X, y = check_X_y(X, y, accept_sparse=['csr', 'csc', 'coo'],\n\u001b[1;32m--> 458\u001b[1;33m                          y_numeric=True, multi_output=True)\n\u001b[0m\u001b[0;32m    459\u001b[0m \u001b[1;33m\u001b[0m\u001b[0m\n\u001b[0;32m    460\u001b[0m         \u001b[1;32mif\u001b[0m \u001b[0msample_weight\u001b[0m \u001b[1;32mis\u001b[0m \u001b[1;32mnot\u001b[0m \u001b[1;32mNone\u001b[0m \u001b[1;32mand\u001b[0m \u001b[0mnp\u001b[0m\u001b[1;33m.\u001b[0m\u001b[0matleast_1d\u001b[0m\u001b[1;33m(\u001b[0m\u001b[0msample_weight\u001b[0m\u001b[1;33m)\u001b[0m\u001b[1;33m.\u001b[0m\u001b[0mndim\u001b[0m \u001b[1;33m>\u001b[0m \u001b[1;36m1\u001b[0m\u001b[1;33m:\u001b[0m\u001b[1;33m\u001b[0m\u001b[1;33m\u001b[0m\u001b[0m\n",
      "\u001b[1;32m~\\AppData\\Local\\Continuum\\anaconda3\\lib\\site-packages\\sklearn\\utils\\validation.py\u001b[0m in \u001b[0;36mcheck_X_y\u001b[1;34m(X, y, accept_sparse, accept_large_sparse, dtype, order, copy, force_all_finite, ensure_2d, allow_nd, multi_output, ensure_min_samples, ensure_min_features, y_numeric, warn_on_dtype, estimator)\u001b[0m\n\u001b[0;32m    757\u001b[0m     \u001b[1;32mif\u001b[0m \u001b[0mmulti_output\u001b[0m\u001b[1;33m:\u001b[0m\u001b[1;33m\u001b[0m\u001b[1;33m\u001b[0m\u001b[0m\n\u001b[0;32m    758\u001b[0m         y = check_array(y, 'csr', force_all_finite=True, ensure_2d=False,\n\u001b[1;32m--> 759\u001b[1;33m                         dtype=None)\n\u001b[0m\u001b[0;32m    760\u001b[0m     \u001b[1;32melse\u001b[0m\u001b[1;33m:\u001b[0m\u001b[1;33m\u001b[0m\u001b[1;33m\u001b[0m\u001b[0m\n\u001b[0;32m    761\u001b[0m         \u001b[0my\u001b[0m \u001b[1;33m=\u001b[0m \u001b[0mcolumn_or_1d\u001b[0m\u001b[1;33m(\u001b[0m\u001b[0my\u001b[0m\u001b[1;33m,\u001b[0m \u001b[0mwarn\u001b[0m\u001b[1;33m=\u001b[0m\u001b[1;32mTrue\u001b[0m\u001b[1;33m)\u001b[0m\u001b[1;33m\u001b[0m\u001b[1;33m\u001b[0m\u001b[0m\n",
      "\u001b[1;32m~\\AppData\\Local\\Continuum\\anaconda3\\lib\\site-packages\\sklearn\\utils\\validation.py\u001b[0m in \u001b[0;36mcheck_array\u001b[1;34m(array, accept_sparse, accept_large_sparse, dtype, order, copy, force_all_finite, ensure_2d, allow_nd, ensure_min_samples, ensure_min_features, warn_on_dtype, estimator)\u001b[0m\n\u001b[0;32m    571\u001b[0m         \u001b[1;32mif\u001b[0m \u001b[0mforce_all_finite\u001b[0m\u001b[1;33m:\u001b[0m\u001b[1;33m\u001b[0m\u001b[1;33m\u001b[0m\u001b[0m\n\u001b[0;32m    572\u001b[0m             _assert_all_finite(array,\n\u001b[1;32m--> 573\u001b[1;33m                                allow_nan=force_all_finite == 'allow-nan')\n\u001b[0m\u001b[0;32m    574\u001b[0m \u001b[1;33m\u001b[0m\u001b[0m\n\u001b[0;32m    575\u001b[0m     \u001b[0mshape_repr\u001b[0m \u001b[1;33m=\u001b[0m \u001b[0m_shape_repr\u001b[0m\u001b[1;33m(\u001b[0m\u001b[0marray\u001b[0m\u001b[1;33m.\u001b[0m\u001b[0mshape\u001b[0m\u001b[1;33m)\u001b[0m\u001b[1;33m\u001b[0m\u001b[1;33m\u001b[0m\u001b[0m\n",
      "\u001b[1;32m~\\AppData\\Local\\Continuum\\anaconda3\\lib\\site-packages\\sklearn\\utils\\validation.py\u001b[0m in \u001b[0;36m_assert_all_finite\u001b[1;34m(X, allow_nan)\u001b[0m\n\u001b[0;32m     54\u001b[0m                 not allow_nan and not np.isfinite(X).all()):\n\u001b[0;32m     55\u001b[0m             \u001b[0mtype_err\u001b[0m \u001b[1;33m=\u001b[0m \u001b[1;34m'infinity'\u001b[0m \u001b[1;32mif\u001b[0m \u001b[0mallow_nan\u001b[0m \u001b[1;32melse\u001b[0m \u001b[1;34m'NaN, infinity'\u001b[0m\u001b[1;33m\u001b[0m\u001b[1;33m\u001b[0m\u001b[0m\n\u001b[1;32m---> 56\u001b[1;33m             \u001b[1;32mraise\u001b[0m \u001b[0mValueError\u001b[0m\u001b[1;33m(\u001b[0m\u001b[0mmsg_err\u001b[0m\u001b[1;33m.\u001b[0m\u001b[0mformat\u001b[0m\u001b[1;33m(\u001b[0m\u001b[0mtype_err\u001b[0m\u001b[1;33m,\u001b[0m \u001b[0mX\u001b[0m\u001b[1;33m.\u001b[0m\u001b[0mdtype\u001b[0m\u001b[1;33m)\u001b[0m\u001b[1;33m)\u001b[0m\u001b[1;33m\u001b[0m\u001b[1;33m\u001b[0m\u001b[0m\n\u001b[0m\u001b[0;32m     57\u001b[0m \u001b[1;33m\u001b[0m\u001b[0m\n\u001b[0;32m     58\u001b[0m \u001b[1;33m\u001b[0m\u001b[0m\n",
      "\u001b[1;31mValueError\u001b[0m: Input contains NaN, infinity or a value too large for dtype('float64')."
     ]
    }
   ],
   "source": [
    "ypred=lr.fit(xtrain_scaled,ytrain).predict(xtest_scaled)"
   ]
  },
  {
   "cell_type": "code",
   "execution_count": null,
   "metadata": {},
   "outputs": [],
   "source": []
  },
  {
   "cell_type": "code",
   "execution_count": 152,
   "metadata": {},
   "outputs": [],
   "source": [
    "from sklearn.metrics import r2_score,mean_squared_error"
   ]
  },
  {
   "cell_type": "code",
   "execution_count": 153,
   "metadata": {},
   "outputs": [
    {
     "ename": "NameError",
     "evalue": "name 'ypred' is not defined",
     "output_type": "error",
     "traceback": [
      "\u001b[1;31m---------------------------------------------------------------------------\u001b[0m",
      "\u001b[1;31mNameError\u001b[0m                                 Traceback (most recent call last)",
      "\u001b[1;32m<ipython-input-153-d90035662b7a>\u001b[0m in \u001b[0;36m<module>\u001b[1;34m\u001b[0m\n\u001b[1;32m----> 1\u001b[1;33m \u001b[0mr2_score\u001b[0m\u001b[1;33m(\u001b[0m\u001b[0mytest\u001b[0m\u001b[1;33m,\u001b[0m\u001b[0mypred\u001b[0m\u001b[1;33m)\u001b[0m\u001b[1;33m\u001b[0m\u001b[1;33m\u001b[0m\u001b[0m\n\u001b[0m",
      "\u001b[1;31mNameError\u001b[0m: name 'ypred' is not defined"
     ]
    }
   ],
   "source": [
    "r2_score(ytest,ypred)"
   ]
  },
  {
   "cell_type": "code",
   "execution_count": 154,
   "metadata": {},
   "outputs": [
    {
     "ename": "NameError",
     "evalue": "name 'ypred' is not defined",
     "output_type": "error",
     "traceback": [
      "\u001b[1;31m---------------------------------------------------------------------------\u001b[0m",
      "\u001b[1;31mNameError\u001b[0m                                 Traceback (most recent call last)",
      "\u001b[1;32m<ipython-input-154-09e946a7daf3>\u001b[0m in \u001b[0;36m<module>\u001b[1;34m\u001b[0m\n\u001b[1;32m----> 1\u001b[1;33m \u001b[0mnp\u001b[0m\u001b[1;33m.\u001b[0m\u001b[0msqrt\u001b[0m\u001b[1;33m(\u001b[0m\u001b[0mmean_squared_error\u001b[0m\u001b[1;33m(\u001b[0m\u001b[0mytest\u001b[0m\u001b[1;33m,\u001b[0m\u001b[0mypred\u001b[0m\u001b[1;33m)\u001b[0m\u001b[1;33m)\u001b[0m\u001b[1;33m\u001b[0m\u001b[1;33m\u001b[0m\u001b[0m\n\u001b[0m",
      "\u001b[1;31mNameError\u001b[0m: name 'ypred' is not defined"
     ]
    }
   ],
   "source": [
    "np.sqrt(mean_squared_error(ytest,ypred))"
   ]
  },
  {
   "cell_type": "code",
   "execution_count": null,
   "metadata": {},
   "outputs": [],
   "source": []
  },
  {
   "cell_type": "markdown",
   "metadata": {},
   "source": [
    "### Backward elimination"
   ]
  },
  {
   "cell_type": "code",
   "execution_count": 155,
   "metadata": {},
   "outputs": [],
   "source": [
    "import statsmodels.formula.api as smf\n",
    "#creating constant for stats models\n",
    "x['constant'] = 1"
   ]
  },
  {
   "cell_type": "code",
   "execution_count": 156,
   "metadata": {},
   "outputs": [],
   "source": [
    "model = smf.OLS(endog =y , exog=x_dummy).fit()"
   ]
  },
  {
   "cell_type": "code",
   "execution_count": 157,
   "metadata": {},
   "outputs": [
    {
     "name": "stderr",
     "output_type": "stream",
     "text": [
      "C:\\Users\\sja\\AppData\\Local\\Continuum\\anaconda3\\lib\\site-packages\\scipy\\stats\\_distn_infrastructure.py:877: RuntimeWarning: invalid value encountered in greater\n",
      "  return (self.a < x) & (x < self.b)\n",
      "C:\\Users\\sja\\AppData\\Local\\Continuum\\anaconda3\\lib\\site-packages\\scipy\\stats\\_distn_infrastructure.py:877: RuntimeWarning: invalid value encountered in less\n",
      "  return (self.a < x) & (x < self.b)\n",
      "C:\\Users\\sja\\AppData\\Local\\Continuum\\anaconda3\\lib\\site-packages\\scipy\\stats\\_distn_infrastructure.py:1831: RuntimeWarning: invalid value encountered in less_equal\n",
      "  cond2 = cond0 & (x <= self.a)\n",
      "C:\\Users\\sja\\AppData\\Local\\Continuum\\anaconda3\\lib\\site-packages\\scipy\\stats\\stats.py:1429: RuntimeWarning: invalid value encountered in sign\n",
      "  term2 = np.sign(denom) * np.where(denom == 0.0, np.nan,\n"
     ]
    },
    {
     "data": {
      "text/html": [
       "<table class=\"simpletable\">\n",
       "<caption>OLS Regression Results</caption>\n",
       "<tr>\n",
       "  <th>Dep. Variable:</th>     <td>num_orders_log</td>  <th>  R-squared:         </th> <td>     nan</td>\n",
       "</tr>\n",
       "<tr>\n",
       "  <th>Model:</th>                   <td>OLS</td>       <th>  Adj. R-squared:    </th> <td>     nan</td>\n",
       "</tr>\n",
       "<tr>\n",
       "  <th>Method:</th>             <td>Least Squares</td>  <th>  F-statistic:       </th> <td>     nan</td>\n",
       "</tr>\n",
       "<tr>\n",
       "  <th>Date:</th>             <td>Tue, 19 Nov 2019</td> <th>  Prob (F-statistic):</th>  <td>   nan</td> \n",
       "</tr>\n",
       "<tr>\n",
       "  <th>Time:</th>                 <td>01:16:13</td>     <th>  Log-Likelihood:    </th> <td>     nan</td>\n",
       "</tr>\n",
       "<tr>\n",
       "  <th>No. Observations:</th>      <td>489121</td>      <th>  AIC:               </th> <td>     nan</td>\n",
       "</tr>\n",
       "<tr>\n",
       "  <th>Df Residuals:</th>          <td>489100</td>      <th>  BIC:               </th> <td>     nan</td>\n",
       "</tr>\n",
       "<tr>\n",
       "  <th>Df Model:</th>              <td>    21</td>      <th>                     </th>     <td> </td>   \n",
       "</tr>\n",
       "<tr>\n",
       "  <th>Covariance Type:</th>      <td>nonrobust</td>    <th>                     </th>     <td> </td>   \n",
       "</tr>\n",
       "</table>\n",
       "<table class=\"simpletable\">\n",
       "<tr>\n",
       "            <td></td>               <th>coef</th>     <th>std err</th>      <th>t</th>      <th>P>|t|</th>  <th>[0.025</th>    <th>0.975]</th>  \n",
       "</tr>\n",
       "<tr>\n",
       "  <th>emailer_for_promotion</th> <td>       nan</td> <td>      nan</td> <td>      nan</td> <td>   nan</td> <td>      nan</td> <td>      nan</td>\n",
       "</tr>\n",
       "<tr>\n",
       "  <th>homepage_featured</th>     <td>       nan</td> <td>      nan</td> <td>      nan</td> <td>   nan</td> <td>      nan</td> <td>      nan</td>\n",
       "</tr>\n",
       "<tr>\n",
       "  <th>op_area</th>               <td>       nan</td> <td>      nan</td> <td>      nan</td> <td>   nan</td> <td>      nan</td> <td>      nan</td>\n",
       "</tr>\n",
       "<tr>\n",
       "  <th>region_code</th>           <td>       nan</td> <td>      nan</td> <td>      nan</td> <td>   nan</td> <td>      nan</td> <td>      nan</td>\n",
       "</tr>\n",
       "<tr>\n",
       "  <th>week</th>                  <td>       nan</td> <td>      nan</td> <td>      nan</td> <td>   nan</td> <td>      nan</td> <td>      nan</td>\n",
       "</tr>\n",
       "<tr>\n",
       "  <th>discount</th>              <td>       nan</td> <td>      nan</td> <td>      nan</td> <td>   nan</td> <td>      nan</td> <td>      nan</td>\n",
       "</tr>\n",
       "<tr>\n",
       "  <th>base_price_Average</th>    <td>       nan</td> <td>      nan</td> <td>      nan</td> <td>   nan</td> <td>      nan</td> <td>      nan</td>\n",
       "</tr>\n",
       "<tr>\n",
       "  <th>base_price_High</th>       <td>       nan</td> <td>      nan</td> <td>      nan</td> <td>   nan</td> <td>      nan</td> <td>      nan</td>\n",
       "</tr>\n",
       "<tr>\n",
       "  <th>base_price_Higher</th>     <td>       nan</td> <td>      nan</td> <td>      nan</td> <td>   nan</td> <td>      nan</td> <td>      nan</td>\n",
       "</tr>\n",
       "<tr>\n",
       "  <th>category_Desert</th>       <td>       nan</td> <td>      nan</td> <td>      nan</td> <td>   nan</td> <td>      nan</td> <td>      nan</td>\n",
       "</tr>\n",
       "<tr>\n",
       "  <th>category_Extras</th>       <td>       nan</td> <td>      nan</td> <td>      nan</td> <td>   nan</td> <td>      nan</td> <td>      nan</td>\n",
       "</tr>\n",
       "<tr>\n",
       "  <th>category_Pasta</th>        <td>       nan</td> <td>      nan</td> <td>      nan</td> <td>   nan</td> <td>      nan</td> <td>      nan</td>\n",
       "</tr>\n",
       "<tr>\n",
       "  <th>category_Pizza</th>        <td>       nan</td> <td>      nan</td> <td>      nan</td> <td>   nan</td> <td>      nan</td> <td>      nan</td>\n",
       "</tr>\n",
       "<tr>\n",
       "  <th>category_Rice Bowl</th>    <td>       nan</td> <td>      nan</td> <td>      nan</td> <td>   nan</td> <td>      nan</td> <td>      nan</td>\n",
       "</tr>\n",
       "<tr>\n",
       "  <th>category_Sandwich</th>     <td>       nan</td> <td>      nan</td> <td>      nan</td> <td>   nan</td> <td>      nan</td> <td>      nan</td>\n",
       "</tr>\n",
       "<tr>\n",
       "  <th>category_Seafood</th>      <td>       nan</td> <td>      nan</td> <td>      nan</td> <td>   nan</td> <td>      nan</td> <td>      nan</td>\n",
       "</tr>\n",
       "<tr>\n",
       "  <th>category_Starters</th>     <td>       nan</td> <td>      nan</td> <td>      nan</td> <td>   nan</td> <td>      nan</td> <td>      nan</td>\n",
       "</tr>\n",
       "<tr>\n",
       "  <th>center_type_TYPE_A</th>    <td>       nan</td> <td>      nan</td> <td>      nan</td> <td>   nan</td> <td>      nan</td> <td>      nan</td>\n",
       "</tr>\n",
       "<tr>\n",
       "  <th>cuisine_Indian</th>        <td>       nan</td> <td>      nan</td> <td>      nan</td> <td>   nan</td> <td>      nan</td> <td>      nan</td>\n",
       "</tr>\n",
       "<tr>\n",
       "  <th>cuisine_Italian</th>       <td>       nan</td> <td>      nan</td> <td>      nan</td> <td>   nan</td> <td>      nan</td> <td>      nan</td>\n",
       "</tr>\n",
       "<tr>\n",
       "  <th>cuisine_Thai</th>          <td>       nan</td> <td>      nan</td> <td>      nan</td> <td>   nan</td> <td>      nan</td> <td>      nan</td>\n",
       "</tr>\n",
       "</table>\n",
       "<table class=\"simpletable\">\n",
       "<tr>\n",
       "  <th>Omnibus:</th>       <td>   nan</td> <th>  Durbin-Watson:     </th> <td>     nan</td>\n",
       "</tr>\n",
       "<tr>\n",
       "  <th>Prob(Omnibus):</th> <td>   nan</td> <th>  Jarque-Bera (JB):  </th> <td>     nan</td>\n",
       "</tr>\n",
       "<tr>\n",
       "  <th>Skew:</th>          <td>   nan</td> <th>  Prob(JB):          </th> <td>     nan</td>\n",
       "</tr>\n",
       "<tr>\n",
       "  <th>Kurtosis:</th>      <td>   nan</td> <th>  Cond. No.          </th> <td>1.29e+03</td>\n",
       "</tr>\n",
       "</table><br/><br/>Warnings:<br/>[1] Standard Errors assume that the covariance matrix of the errors is correctly specified.<br/>[2] The condition number is large, 1.29e+03. This might indicate that there are<br/>strong multicollinearity or other numerical problems."
      ],
      "text/plain": [
       "<class 'statsmodels.iolib.summary.Summary'>\n",
       "\"\"\"\n",
       "                            OLS Regression Results                            \n",
       "==============================================================================\n",
       "Dep. Variable:         num_orders_log   R-squared:                         nan\n",
       "Model:                            OLS   Adj. R-squared:                    nan\n",
       "Method:                 Least Squares   F-statistic:                       nan\n",
       "Date:                Tue, 19 Nov 2019   Prob (F-statistic):                nan\n",
       "Time:                        01:16:13   Log-Likelihood:                    nan\n",
       "No. Observations:              489121   AIC:                               nan\n",
       "Df Residuals:                  489100   BIC:                               nan\n",
       "Df Model:                          21                                         \n",
       "Covariance Type:            nonrobust                                         \n",
       "=========================================================================================\n",
       "                            coef    std err          t      P>|t|      [0.025      0.975]\n",
       "-----------------------------------------------------------------------------------------\n",
       "emailer_for_promotion        nan        nan        nan        nan         nan         nan\n",
       "homepage_featured            nan        nan        nan        nan         nan         nan\n",
       "op_area                      nan        nan        nan        nan         nan         nan\n",
       "region_code                  nan        nan        nan        nan         nan         nan\n",
       "week                         nan        nan        nan        nan         nan         nan\n",
       "discount                     nan        nan        nan        nan         nan         nan\n",
       "base_price_Average           nan        nan        nan        nan         nan         nan\n",
       "base_price_High              nan        nan        nan        nan         nan         nan\n",
       "base_price_Higher            nan        nan        nan        nan         nan         nan\n",
       "category_Desert              nan        nan        nan        nan         nan         nan\n",
       "category_Extras              nan        nan        nan        nan         nan         nan\n",
       "category_Pasta               nan        nan        nan        nan         nan         nan\n",
       "category_Pizza               nan        nan        nan        nan         nan         nan\n",
       "category_Rice Bowl           nan        nan        nan        nan         nan         nan\n",
       "category_Sandwich            nan        nan        nan        nan         nan         nan\n",
       "category_Seafood             nan        nan        nan        nan         nan         nan\n",
       "category_Starters            nan        nan        nan        nan         nan         nan\n",
       "center_type_TYPE_A           nan        nan        nan        nan         nan         nan\n",
       "cuisine_Indian               nan        nan        nan        nan         nan         nan\n",
       "cuisine_Italian              nan        nan        nan        nan         nan         nan\n",
       "cuisine_Thai                 nan        nan        nan        nan         nan         nan\n",
       "==============================================================================\n",
       "Omnibus:                          nan   Durbin-Watson:                     nan\n",
       "Prob(Omnibus):                    nan   Jarque-Bera (JB):                  nan\n",
       "Skew:                             nan   Prob(JB):                          nan\n",
       "Kurtosis:                         nan   Cond. No.                     1.29e+03\n",
       "==============================================================================\n",
       "\n",
       "Warnings:\n",
       "[1] Standard Errors assume that the covariance matrix of the errors is correctly specified.\n",
       "[2] The condition number is large, 1.29e+03. This might indicate that there are\n",
       "strong multicollinearity or other numerical problems.\n",
       "\"\"\""
      ]
     },
     "execution_count": 157,
     "metadata": {},
     "output_type": "execute_result"
    }
   ],
   "source": [
    "model.summary()"
   ]
  },
  {
   "cell_type": "code",
   "execution_count": 158,
   "metadata": {},
   "outputs": [],
   "source": [
    "## Lasso \n",
    "from sklearn.linear_model import Lasso\n",
    "La=Lasso()"
   ]
  },
  {
   "cell_type": "code",
   "execution_count": null,
   "metadata": {},
   "outputs": [],
   "source": [
    "ypred_lasso=La.fit(xtrain_scaled,ytrain).predict(xtest_scaled)"
   ]
  },
  {
   "cell_type": "code",
   "execution_count": null,
   "metadata": {},
   "outputs": [],
   "source": [
    "r2_score(ytest,ypred_lasso)"
   ]
  },
  {
   "cell_type": "code",
   "execution_count": null,
   "metadata": {},
   "outputs": [],
   "source": [
    "np.sqrt(mean_squared_error(ytest,ypred_lasso))"
   ]
  },
  {
   "cell_type": "markdown",
   "metadata": {},
   "source": [
    "### Random forest regressor"
   ]
  },
  {
   "cell_type": "code",
   "execution_count": null,
   "metadata": {},
   "outputs": [],
   "source": [
    "from sklearn.ensemble import RandomForestRegressor"
   ]
  },
  {
   "cell_type": "code",
   "execution_count": null,
   "metadata": {},
   "outputs": [],
   "source": [
    "RF= RandomForestRegressor()"
   ]
  },
  {
   "cell_type": "code",
   "execution_count": null,
   "metadata": {},
   "outputs": [],
   "source": [
    "ypred_RF=RF.fit(xtrain_scaled,ytrain).predict(xtest_scaled)"
   ]
  },
  {
   "cell_type": "code",
   "execution_count": null,
   "metadata": {},
   "outputs": [],
   "source": [
    "np.sqrt(mean_squared_error(ytest,ypred_RF))"
   ]
  },
  {
   "cell_type": "code",
   "execution_count": null,
   "metadata": {},
   "outputs": [],
   "source": [
    "r2_score(ytest,ypred_RF)"
   ]
  },
  {
   "cell_type": "code",
   "execution_count": null,
   "metadata": {},
   "outputs": [],
   "source": [
    "pd.DataFrame({'Importances':RF.feature_importances_*100},index=xtrain.columns).sort_values(by='Importances',ascending=True).plot(kind='barh')"
   ]
  },
  {
   "cell_type": "code",
   "execution_count": null,
   "metadata": {},
   "outputs": [],
   "source": [
    "## by taking only the top 5 features\n",
    "pd.DataFrame({'Importances':RF.feature_importances_*100},index=xtrain.columns).sort_values(by='Importances',ascending=False).head(25)"
   ]
  },
  {
   "cell_type": "raw",
   "metadata": {},
   "source": [
    "## Building Model again\n",
    "xtrain=xtrain[['discount','op_area','week','category_Rice Bowl','homepage_featured','category_Sandwich','region_code','emailer_for_promotion','base_price_Higher','cuisine_Indian']]\n",
    "xtest=xtest[['discount','op_area','week','category_Rice Bowl','homepage_featured','category_Sandwich','region_code','emailer_for_promotion','base_price_Higher','cuisine_Indian']]\n"
   ]
  },
  {
   "cell_type": "code",
   "execution_count": null,
   "metadata": {},
   "outputs": [],
   "source": [
    "xtrain=xtrain.drop(['category_Desert'],axis=1)\n",
    "xtest=xtest.drop(['category_Desert'],axis=1)\n"
   ]
  },
  {
   "cell_type": "code",
   "execution_count": null,
   "metadata": {},
   "outputs": [],
   "source": [
    "## Scaling\n",
    "xtrain_scaled=sc.fit_transform(xtrain)\n",
    "xtest_scaled=sc.transform(xtest)"
   ]
  },
  {
   "cell_type": "code",
   "execution_count": null,
   "metadata": {},
   "outputs": [],
   "source": [
    "RF2=RandomForestRegressor()\n",
    "ypred_RF2=RF2.fit(xtrain_scaled,ytrain).predict(xtest_scaled)"
   ]
  },
  {
   "cell_type": "code",
   "execution_count": null,
   "metadata": {},
   "outputs": [],
   "source": [
    "r2_score(ytest,ypred_RF2)"
   ]
  },
  {
   "cell_type": "code",
   "execution_count": null,
   "metadata": {},
   "outputs": [],
   "source": [
    "np.sqrt(mean_squared_error(ytest,ypred_RF2))"
   ]
  },
  {
   "cell_type": "code",
   "execution_count": null,
   "metadata": {},
   "outputs": [],
   "source": []
  },
  {
   "cell_type": "code",
   "execution_count": null,
   "metadata": {},
   "outputs": [],
   "source": []
  },
  {
   "cell_type": "code",
   "execution_count": null,
   "metadata": {},
   "outputs": [],
   "source": []
  },
  {
   "cell_type": "code",
   "execution_count": null,
   "metadata": {},
   "outputs": [],
   "source": []
  }
 ],
 "metadata": {
  "kernelspec": {
   "display_name": "Python 3",
   "language": "python",
   "name": "python3"
  },
  "language_info": {
   "codemirror_mode": {
    "name": "ipython",
    "version": 3
   },
   "file_extension": ".py",
   "mimetype": "text/x-python",
   "name": "python",
   "nbconvert_exporter": "python",
   "pygments_lexer": "ipython3",
   "version": "3.7.3"
  }
 },
 "nbformat": 4,
 "nbformat_minor": 2
}
